{
 "cells": [
  {
   "cell_type": "markdown",
   "metadata": {},
   "source": [
    "# Peer-to-peer Lending Risk and Return Analysis Using Lending Club Data\n",
    "Peer-to-peer (P2P) lending is a new financial lending mode developed recently. It has several advantage compared to conventional financial mode. For borrowers, application and approval process is largely reduced and interest rate can be better compared to conventional loan from financial organization. For lenders, investment return can have a good rate compared to traditional saving or CD account and lenders can choose borrowers based on their analysis. For an investment, the most critical concern is that the loan is safe or not. Using Lending Club data, we build multiple models to analyze the load rist and investment return. \n",
    "#### Highlight:\n",
    "**1. Data cleaning and feature engineering:**  In this part, data was load and cleaned. Certain features with more than 90% empty entry are discarded. Duplicate or highly correlated data are removed to save time and space. \n",
    "\n",
    "**2. Data exploration and visualization:**  In this part, multiple techniques are used to explore and virsualize data. Based on the data exporation and visualization, relationship between the important feature and loan status are studied. \n",
    "\n",
    "**3. Pre- Machine Learning data engineering:**  In this part, engineered data are further processed into the format that are ready for machine learning training and testing. For simplicity and time concern, only the features that are explored in previous part are chosen. Numerical features are keep as same, catagorical features are encoded. \n",
    "\n",
    "**4. Building different models and compare:**  In this part, different calssification models are used to predict a bad loan. SMOTE is used to re-blance the imblance data. Using XGBOOST, accuracy of 84% and recall of 95% can be achieved on the test data set.\n",
    "\n",
    "**5. Develop a simple neural network and implement the above data:**  In this part, a simple neural network is writtern from scrach using back propangation algorithm. The network employs one hidden with 200 hidden nodes. Accuracy of 76% can be achieved using this self-writtern neural network. \n",
    "\n",
    "**6. Develope a real neural network with 2 hidden layers using Tensorflow:**  In this part, a real neural network was developed using Tensorflow. The network employs 2 hidden layers with 500 and 750 hidden  nodes, repectively. Sigmoid cross entropy is used to calculate cost. With this neural network, accuray of 82% can be achieved. \n",
    "\n",
    "**7. Consider from a different side: Building a regression model for investment return:**  In this part, different from previous parts which build classification models using different methods, a regression model is built to differenciate bad loans from the good ones using investment return as a indicator. With an extra threshold parameter added in to the RandomForest regressor model, different investment return rate can be achieved. "
   ]
  },
  {
   "cell_type": "code",
   "execution_count": 1,
   "metadata": {
    "collapsed": true
   },
   "outputs": [],
   "source": [
    "import pandas as pd\n",
    "import numpy as np\n",
    "import matplotlib.pyplot as plt\n",
    "import seaborn as sns\n",
    "from sklearn import preprocessing\n",
    "from sklearn.model_selection import train_test_split\n",
    "%matplotlib inline"
   ]
  },
  {
   "cell_type": "markdown",
   "metadata": {},
   "source": [
    "Load data and data dictionary. Format the display option, so that we can visually exam the data dictionary"
   ]
  },
  {
   "cell_type": "code",
   "execution_count": 2,
   "metadata": {},
   "outputs": [
    {
     "name": "stderr",
     "output_type": "stream",
     "text": [
      "C:\\ProgramData\\Anaconda3\\lib\\site-packages\\IPython\\core\\interactiveshell.py:2717: DtypeWarning: Columns (19,55) have mixed types. Specify dtype option on import or set low_memory=False.\n",
      "  interactivity=interactivity, compiler=compiler, result=result)\n"
     ]
    }
   ],
   "source": [
    "raw_data = pd.read_csv('./data/loan.csv')\n",
    "data_dic = pd.read_excel('./data/LCDataDictionary.xlsx', sheetname = 'LoanStats')\n",
    "pd.set_option('display.max_colwidth', -1)"
   ]
  },
  {
   "cell_type": "markdown",
   "metadata": {},
   "source": [
    "Examing the data summary below, we can see that there are totally 74 features provided bu Lending Club. However, a number of feautures are not quite useful for our modeling purpose."
   ]
  },
  {
   "cell_type": "code",
   "execution_count": 3,
   "metadata": {
    "scrolled": true
   },
   "outputs": [
    {
     "name": "stdout",
     "output_type": "stream",
     "text": [
      "<class 'pandas.core.frame.DataFrame'>\n",
      "RangeIndex: 887379 entries, 0 to 887378\n",
      "Data columns (total 74 columns):\n",
      "id                             887379 non-null int64\n",
      "member_id                      887379 non-null int64\n",
      "loan_amnt                      887379 non-null float64\n",
      "funded_amnt                    887379 non-null float64\n",
      "funded_amnt_inv                887379 non-null float64\n",
      "term                           887379 non-null object\n",
      "int_rate                       887379 non-null float64\n",
      "installment                    887379 non-null float64\n",
      "grade                          887379 non-null object\n",
      "sub_grade                      887379 non-null object\n",
      "emp_title                      835922 non-null object\n",
      "emp_length                     887379 non-null object\n",
      "home_ownership                 887379 non-null object\n",
      "annual_inc                     887375 non-null float64\n",
      "verification_status            887379 non-null object\n",
      "issue_d                        887379 non-null object\n",
      "loan_status                    887379 non-null object\n",
      "pymnt_plan                     887379 non-null object\n",
      "url                            887379 non-null object\n",
      "desc                           126029 non-null object\n",
      "purpose                        887379 non-null object\n",
      "title                          887228 non-null object\n",
      "zip_code                       887379 non-null object\n",
      "addr_state                     887379 non-null object\n",
      "dti                            887379 non-null float64\n",
      "delinq_2yrs                    887350 non-null float64\n",
      "earliest_cr_line               887350 non-null object\n",
      "inq_last_6mths                 887350 non-null float64\n",
      "mths_since_last_delinq         433067 non-null float64\n",
      "mths_since_last_record         137053 non-null float64\n",
      "open_acc                       887350 non-null float64\n",
      "pub_rec                        887350 non-null float64\n",
      "revol_bal                      887379 non-null float64\n",
      "revol_util                     886877 non-null float64\n",
      "total_acc                      887350 non-null float64\n",
      "initial_list_status            887379 non-null object\n",
      "out_prncp                      887379 non-null float64\n",
      "out_prncp_inv                  887379 non-null float64\n",
      "total_pymnt                    887379 non-null float64\n",
      "total_pymnt_inv                887379 non-null float64\n",
      "total_rec_prncp                887379 non-null float64\n",
      "total_rec_int                  887379 non-null float64\n",
      "total_rec_late_fee             887379 non-null float64\n",
      "recoveries                     887379 non-null float64\n",
      "collection_recovery_fee        887379 non-null float64\n",
      "last_pymnt_d                   869720 non-null object\n",
      "last_pymnt_amnt                887379 non-null float64\n",
      "next_pymnt_d                   634408 non-null object\n",
      "last_credit_pull_d             887326 non-null object\n",
      "collections_12_mths_ex_med     887234 non-null float64\n",
      "mths_since_last_major_derog    221703 non-null float64\n",
      "policy_code                    887379 non-null float64\n",
      "application_type               887379 non-null object\n",
      "annual_inc_joint               511 non-null float64\n",
      "dti_joint                      509 non-null float64\n",
      "verification_status_joint      511 non-null object\n",
      "acc_now_delinq                 887350 non-null float64\n",
      "tot_coll_amt                   817103 non-null float64\n",
      "tot_cur_bal                    817103 non-null float64\n",
      "open_acc_6m                    21372 non-null float64\n",
      "open_il_6m                     21372 non-null float64\n",
      "open_il_12m                    21372 non-null float64\n",
      "open_il_24m                    21372 non-null float64\n",
      "mths_since_rcnt_il             20810 non-null float64\n",
      "total_bal_il                   21372 non-null float64\n",
      "il_util                        18617 non-null float64\n",
      "open_rv_12m                    21372 non-null float64\n",
      "open_rv_24m                    21372 non-null float64\n",
      "max_bal_bc                     21372 non-null float64\n",
      "all_util                       21372 non-null float64\n",
      "total_rev_hi_lim               817103 non-null float64\n",
      "inq_fi                         21372 non-null float64\n",
      "total_cu_tl                    21372 non-null float64\n",
      "inq_last_12m                   21372 non-null float64\n",
      "dtypes: float64(49), int64(2), object(23)\n",
      "memory usage: 501.0+ MB\n"
     ]
    }
   ],
   "source": [
    "raw_data.info()"
   ]
  },
  {
   "cell_type": "markdown",
   "metadata": {},
   "source": [
    "Drop useless features and the features that more than 90% of entries are NA. After this step of filtering, only 49 features are left."
   ]
  },
  {
   "cell_type": "code",
   "execution_count": 4,
   "metadata": {
    "scrolled": true
   },
   "outputs": [
    {
     "name": "stdout",
     "output_type": "stream",
     "text": [
      "<class 'pandas.core.frame.DataFrame'>\n",
      "RangeIndex: 887379 entries, 0 to 887378\n",
      "Data columns (total 49 columns):\n",
      "loan_amnt                      887379 non-null float64\n",
      "funded_amnt                    887379 non-null float64\n",
      "funded_amnt_inv                887379 non-null float64\n",
      "term                           887379 non-null object\n",
      "int_rate                       887379 non-null float64\n",
      "installment                    887379 non-null float64\n",
      "grade                          887379 non-null object\n",
      "sub_grade                      887379 non-null object\n",
      "emp_length                     887379 non-null object\n",
      "home_ownership                 887379 non-null object\n",
      "annual_inc                     887375 non-null float64\n",
      "verification_status            887379 non-null object\n",
      "issue_d                        887379 non-null object\n",
      "loan_status                    887379 non-null object\n",
      "pymnt_plan                     887379 non-null object\n",
      "purpose                        887379 non-null object\n",
      "zip_code                       887379 non-null object\n",
      "addr_state                     887379 non-null object\n",
      "dti                            887379 non-null float64\n",
      "delinq_2yrs                    887350 non-null float64\n",
      "earliest_cr_line               887350 non-null object\n",
      "inq_last_6mths                 887350 non-null float64\n",
      "mths_since_last_delinq         433067 non-null float64\n",
      "mths_since_last_record         137053 non-null float64\n",
      "open_acc                       887350 non-null float64\n",
      "pub_rec                        887350 non-null float64\n",
      "revol_bal                      887379 non-null float64\n",
      "revol_util                     886877 non-null float64\n",
      "total_acc                      887350 non-null float64\n",
      "initial_list_status            887379 non-null object\n",
      "out_prncp                      887379 non-null float64\n",
      "out_prncp_inv                  887379 non-null float64\n",
      "total_pymnt                    887379 non-null float64\n",
      "total_pymnt_inv                887379 non-null float64\n",
      "total_rec_prncp                887379 non-null float64\n",
      "total_rec_int                  887379 non-null float64\n",
      "total_rec_late_fee             887379 non-null float64\n",
      "recoveries                     887379 non-null float64\n",
      "collection_recovery_fee        887379 non-null float64\n",
      "last_pymnt_amnt                887379 non-null float64\n",
      "last_credit_pull_d             887326 non-null object\n",
      "collections_12_mths_ex_med     887234 non-null float64\n",
      "mths_since_last_major_derog    221703 non-null float64\n",
      "policy_code                    887379 non-null float64\n",
      "application_type               887379 non-null object\n",
      "acc_now_delinq                 887350 non-null float64\n",
      "tot_coll_amt                   817103 non-null float64\n",
      "tot_cur_bal                    817103 non-null float64\n",
      "total_rev_hi_lim               817103 non-null float64\n",
      "dtypes: float64(33), object(16)\n",
      "memory usage: 331.7+ MB\n"
     ]
    }
   ],
   "source": [
    "data_reduced = raw_data.drop(['id', 'member_id', 'emp_title', 'url', 'title', 'last_pymnt_d', 'next_pymnt_d', \n",
    "                              'desc'], axis=1)\n",
    "\n",
    "data_reduced.dropna(axis=1, thresh=88000, inplace=True)\n",
    "data_reduced.info()"
   ]
  },
  {
   "cell_type": "markdown",
   "metadata": {},
   "source": [
    "Double check the deleted features from feature dictionary to make sure no critical features are deleted by mistake"
   ]
  },
  {
   "cell_type": "code",
   "execution_count": 5,
   "metadata": {
    "scrolled": true
   },
   "outputs": [
    {
     "data": {
      "text/html": [
       "<div>\n",
       "<style>\n",
       "    .dataframe thead tr:only-child th {\n",
       "        text-align: right;\n",
       "    }\n",
       "\n",
       "    .dataframe thead th {\n",
       "        text-align: left;\n",
       "    }\n",
       "\n",
       "    .dataframe tbody tr th {\n",
       "        vertical-align: top;\n",
       "    }\n",
       "</style>\n",
       "<table border=\"1\" class=\"dataframe\">\n",
       "  <thead>\n",
       "    <tr style=\"text-align: right;\">\n",
       "      <th></th>\n",
       "      <th>LoanStatNew</th>\n",
       "      <th>Description</th>\n",
       "    </tr>\n",
       "  </thead>\n",
       "  <tbody>\n",
       "    <tr>\n",
       "      <th>3</th>\n",
       "      <td>all_util</td>\n",
       "      <td>Balance to credit limit on all trades</td>\n",
       "    </tr>\n",
       "    <tr>\n",
       "      <th>5</th>\n",
       "      <td>annual_inc_joint</td>\n",
       "      <td>The combined self-reported annual income provided by the co-borrowers during registration</td>\n",
       "    </tr>\n",
       "    <tr>\n",
       "      <th>15</th>\n",
       "      <td>desc</td>\n",
       "      <td>Loan description provided by the borrower</td>\n",
       "    </tr>\n",
       "    <tr>\n",
       "      <th>17</th>\n",
       "      <td>dti_joint</td>\n",
       "      <td>A ratio calculated using the co-borrowers' total monthly payments on the total debt obligations, excluding mortgages and the requested LC loan, divided by the co-borrowers' combined self-reported monthly income</td>\n",
       "    </tr>\n",
       "    <tr>\n",
       "      <th>20</th>\n",
       "      <td>emp_title</td>\n",
       "      <td>The job title supplied by the Borrower when applying for the loan.*</td>\n",
       "    </tr>\n",
       "    <tr>\n",
       "      <th>27</th>\n",
       "      <td>id</td>\n",
       "      <td>A unique LC assigned ID for the loan listing.</td>\n",
       "    </tr>\n",
       "    <tr>\n",
       "      <th>28</th>\n",
       "      <td>il_util</td>\n",
       "      <td>Ratio of total current balance to high credit/credit limit on all install acct</td>\n",
       "    </tr>\n",
       "    <tr>\n",
       "      <th>30</th>\n",
       "      <td>inq_fi</td>\n",
       "      <td>Number of personal finance inquiries</td>\n",
       "    </tr>\n",
       "    <tr>\n",
       "      <th>31</th>\n",
       "      <td>inq_last_12m</td>\n",
       "      <td>Number of credit inquiries in past 12 months</td>\n",
       "    </tr>\n",
       "    <tr>\n",
       "      <th>40</th>\n",
       "      <td>last_pymnt_d</td>\n",
       "      <td>Last month payment was received</td>\n",
       "    </tr>\n",
       "    <tr>\n",
       "      <th>43</th>\n",
       "      <td>max_bal_bc</td>\n",
       "      <td>Maximum current balance owed on all revolving accounts</td>\n",
       "    </tr>\n",
       "    <tr>\n",
       "      <th>44</th>\n",
       "      <td>member_id</td>\n",
       "      <td>A unique LC assigned Id for the borrower member.</td>\n",
       "    </tr>\n",
       "    <tr>\n",
       "      <th>53</th>\n",
       "      <td>mths_since_rcnt_il</td>\n",
       "      <td>Months since most recent installment accounts opened</td>\n",
       "    </tr>\n",
       "    <tr>\n",
       "      <th>58</th>\n",
       "      <td>next_pymnt_d</td>\n",
       "      <td>Next scheduled payment date</td>\n",
       "    </tr>\n",
       "    <tr>\n",
       "      <th>74</th>\n",
       "      <td>open_acc_6m</td>\n",
       "      <td>Number of open trades in last 6 months</td>\n",
       "    </tr>\n",
       "    <tr>\n",
       "      <th>75</th>\n",
       "      <td>open_il_12m</td>\n",
       "      <td>Number of installment accounts opened in past 12 months</td>\n",
       "    </tr>\n",
       "    <tr>\n",
       "      <th>76</th>\n",
       "      <td>open_il_24m</td>\n",
       "      <td>Number of installment accounts opened in past 24 months</td>\n",
       "    </tr>\n",
       "    <tr>\n",
       "      <th>77</th>\n",
       "      <td>open_il_6m</td>\n",
       "      <td>Number of currently active installment trades</td>\n",
       "    </tr>\n",
       "    <tr>\n",
       "      <th>78</th>\n",
       "      <td>open_rv_12m</td>\n",
       "      <td>Number of revolving trades opened in past 12 months</td>\n",
       "    </tr>\n",
       "    <tr>\n",
       "      <th>79</th>\n",
       "      <td>open_rv_24m</td>\n",
       "      <td>Number of revolving trades opened in past 24 months</td>\n",
       "    </tr>\n",
       "    <tr>\n",
       "      <th>95</th>\n",
       "      <td>title</td>\n",
       "      <td>The loan title provided by the borrower</td>\n",
       "    </tr>\n",
       "    <tr>\n",
       "      <th>101</th>\n",
       "      <td>total_bal_il</td>\n",
       "      <td>Total current balance of all installment accounts</td>\n",
       "    </tr>\n",
       "    <tr>\n",
       "      <th>103</th>\n",
       "      <td>total_cu_tl</td>\n",
       "      <td>Number of finance trades</td>\n",
       "    </tr>\n",
       "    <tr>\n",
       "      <th>111</th>\n",
       "      <td>url</td>\n",
       "      <td>URL for the LC page with listing data.</td>\n",
       "    </tr>\n",
       "  </tbody>\n",
       "</table>\n",
       "</div>"
      ],
      "text/plain": [
       "            LoanStatNew  \\\n",
       "3    all_util             \n",
       "5    annual_inc_joint     \n",
       "15   desc                 \n",
       "17   dti_joint            \n",
       "20   emp_title            \n",
       "27   id                   \n",
       "28   il_util              \n",
       "30   inq_fi               \n",
       "31   inq_last_12m         \n",
       "40   last_pymnt_d         \n",
       "43   max_bal_bc           \n",
       "44   member_id            \n",
       "53   mths_since_rcnt_il   \n",
       "58   next_pymnt_d         \n",
       "74   open_acc_6m          \n",
       "75   open_il_12m          \n",
       "76   open_il_24m          \n",
       "77   open_il_6m           \n",
       "78   open_rv_12m          \n",
       "79   open_rv_24m          \n",
       "95   title                \n",
       "101  total_bal_il         \n",
       "103  total_cu_tl          \n",
       "111  url                  \n",
       "\n",
       "                                                                                                                                                                                                            Description  \n",
       "3    Balance to credit limit on all trades                                                                                                                                                                               \n",
       "5    The combined self-reported annual income provided by the co-borrowers during registration                                                                                                                           \n",
       "15   Loan description provided by the borrower                                                                                                                                                                           \n",
       "17   A ratio calculated using the co-borrowers' total monthly payments on the total debt obligations, excluding mortgages and the requested LC loan, divided by the co-borrowers' combined self-reported monthly income  \n",
       "20   The job title supplied by the Borrower when applying for the loan.*                                                                                                                                                 \n",
       "27   A unique LC assigned ID for the loan listing.                                                                                                                                                                       \n",
       "28   Ratio of total current balance to high credit/credit limit on all install acct                                                                                                                                      \n",
       "30   Number of personal finance inquiries                                                                                                                                                                                \n",
       "31   Number of credit inquiries in past 12 months                                                                                                                                                                        \n",
       "40   Last month payment was received                                                                                                                                                                                     \n",
       "43   Maximum current balance owed on all revolving accounts                                                                                                                                                              \n",
       "44   A unique LC assigned Id for the borrower member.                                                                                                                                                                    \n",
       "53   Months since most recent installment accounts opened                                                                                                                                                                \n",
       "58   Next scheduled payment date                                                                                                                                                                                         \n",
       "74   Number of open trades in last 6 months                                                                                                                                                                              \n",
       "75   Number of installment accounts opened in past 12 months                                                                                                                                                             \n",
       "76   Number of installment accounts opened in past 24 months                                                                                                                                                             \n",
       "77   Number of currently active installment trades                                                                                                                                                                       \n",
       "78   Number of revolving trades opened in past 12 months                                                                                                                                                                 \n",
       "79   Number of revolving trades opened in past 24 months                                                                                                                                                                 \n",
       "95   The loan title provided by the borrower                                                                                                                                                                             \n",
       "101  Total current balance of all installment accounts                                                                                                                                                                   \n",
       "103  Number of finance trades                                                                                                                                                                                            \n",
       "111  URL for the LC page with listing data.                                                                                                                                                                              "
      ]
     },
     "execution_count": 5,
     "metadata": {},
     "output_type": "execute_result"
    }
   ],
   "source": [
    "full_list_name = list(raw_data)\n",
    "reduced_list_name = list(data_reduced)\n",
    "removed_col = np.setdiff1d(full_list_name,reduced_list_name)\n",
    "data_dic[data_dic['LoanStatNew'].isin(removed_col)]"
   ]
  },
  {
   "cell_type": "markdown",
   "metadata": {},
   "source": [
    "There are a number of features having a large amount of NAs, They are mainly the month data. Fill the NA months with a value of 5 years"
   ]
  },
  {
   "cell_type": "code",
   "execution_count": 6,
   "metadata": {
    "scrolled": true
   },
   "outputs": [
    {
     "name": "stdout",
     "output_type": "stream",
     "text": [
      "<class 'pandas.core.frame.DataFrame'>\n",
      "Int64Index: 816673 entries, 42535 to 887378\n",
      "Data columns (total 49 columns):\n",
      "loan_amnt                      816673 non-null float64\n",
      "funded_amnt                    816673 non-null float64\n",
      "funded_amnt_inv                816673 non-null float64\n",
      "term                           816673 non-null object\n",
      "int_rate                       816673 non-null float64\n",
      "installment                    816673 non-null float64\n",
      "grade                          816673 non-null object\n",
      "sub_grade                      816673 non-null object\n",
      "emp_length                     816673 non-null object\n",
      "home_ownership                 816673 non-null object\n",
      "annual_inc                     816673 non-null float64\n",
      "verification_status            816673 non-null object\n",
      "issue_d                        816673 non-null object\n",
      "loan_status                    816673 non-null object\n",
      "pymnt_plan                     816673 non-null object\n",
      "purpose                        816673 non-null object\n",
      "zip_code                       816673 non-null object\n",
      "addr_state                     816673 non-null object\n",
      "dti                            816673 non-null float64\n",
      "delinq_2yrs                    816673 non-null float64\n",
      "earliest_cr_line               816673 non-null object\n",
      "inq_last_6mths                 816673 non-null float64\n",
      "mths_since_last_delinq         816673 non-null float64\n",
      "mths_since_last_record         816673 non-null float64\n",
      "open_acc                       816673 non-null float64\n",
      "pub_rec                        816673 non-null float64\n",
      "revol_bal                      816673 non-null float64\n",
      "revol_util                     816673 non-null float64\n",
      "total_acc                      816673 non-null float64\n",
      "initial_list_status            816673 non-null object\n",
      "out_prncp                      816673 non-null float64\n",
      "out_prncp_inv                  816673 non-null float64\n",
      "total_pymnt                    816673 non-null float64\n",
      "total_pymnt_inv                816673 non-null float64\n",
      "total_rec_prncp                816673 non-null float64\n",
      "total_rec_int                  816673 non-null float64\n",
      "total_rec_late_fee             816673 non-null float64\n",
      "recoveries                     816673 non-null float64\n",
      "collection_recovery_fee        816673 non-null float64\n",
      "last_pymnt_amnt                816673 non-null float64\n",
      "last_credit_pull_d             816673 non-null object\n",
      "collections_12_mths_ex_med     816673 non-null float64\n",
      "mths_since_last_major_derog    816673 non-null float64\n",
      "policy_code                    816673 non-null float64\n",
      "application_type               816673 non-null object\n",
      "acc_now_delinq                 816673 non-null float64\n",
      "tot_coll_amt                   816673 non-null float64\n",
      "tot_cur_bal                    816673 non-null float64\n",
      "total_rev_hi_lim               816673 non-null float64\n",
      "dtypes: float64(33), object(16)\n",
      "memory usage: 311.5+ MB\n"
     ]
    }
   ],
   "source": [
    "data_reduced['mths_since_last_delinq'].fillna(value = 120, inplace = True)\n",
    "data_reduced['mths_since_last_record'].fillna(value = 120, inplace = True)\n",
    "data_reduced['mths_since_last_major_derog'].fillna(value = 120, inplace = True)\n",
    "data_reduced['mths_since_last_major_derog'].fillna(value = 120, inplace = True)\n",
    "\n",
    "data_reduced.dropna(axis=0, how='any', inplace = True)\n",
    "data_reduced.info()"
   ]
  },
  {
   "cell_type": "markdown",
   "metadata": {},
   "source": [
    "Split catagorical and numeric features. Generate correlation matrix for numeric features to remove highly correlated features. We can see some highly correlated features, such as funded_amnt and funded_amnt_inv. In order to save time and space, we discard these features. After the operation, we can see that no more features having highly correlations. "
   ]
  },
  {
   "cell_type": "code",
   "execution_count": 7,
   "metadata": {},
   "outputs": [
    {
     "data": {
      "text/plain": [
       "<matplotlib.axes._subplots.AxesSubplot at 0x18c1cd40588>"
      ]
     },
     "execution_count": 7,
     "metadata": {},
     "output_type": "execute_result"
    },
    {
     "data": {
      "image/png": "[encoded data removed]",
      "text/plain": [
       "<matplotlib.figure.Figure at 0x18c1d115b38>"
      ]
     },
     "metadata": {},
     "output_type": "display_data"
    }
   ],
   "source": [
    "col_list = list(data_reduced)\n",
    "catagorical_list = ['term', 'grade', 'sub_grade', 'emp_length', 'home_ownership', 'verification_status', 'loan_status'\n",
    "                   'pymnt_plan', 'purpose', 'zip_code', 'addr_state', 'earliest_cr_line', 'initial_list_status', \n",
    "                    'last_credit_pull_d', 'application_type']\n",
    "numeric_list = np.setdiff1d(col_list, catagorical_list)\n",
    "\n",
    "data_numeric = data_reduced[numeric_list]\n",
    "f, ax = plt.subplots(figsize=(10, 8))\n",
    "corr = data_numeric.corr()\n",
    "sns.heatmap(corr, mask=np.zeros_like(corr, dtype=np.bool), cmap=sns.diverging_palette(220, 10, as_cmap=True), ax=ax)"
   ]
  },
  {
   "cell_type": "code",
   "execution_count": 8,
   "metadata": {},
   "outputs": [
    {
     "data": {
      "text/plain": [
       "<matplotlib.axes._subplots.AxesSubplot at 0x18c1d115898>"
      ]
     },
     "execution_count": 8,
     "metadata": {},
     "output_type": "execute_result"
    },
    {
     "data": {
      "image/png": "[encoded data removed]",
      "text/plain": [
       "<matplotlib.figure.Figure at 0x18c1cc5afd0>"
      ]
     },
     "metadata": {},
     "output_type": "display_data"
    }
   ],
   "source": [
    "data_reduced.drop(['collection_recovery_fee', 'funded_amnt_inv', 'installment', 'total_pymnt_inv', 'loan_amnt',\n",
    "                   'total_rec_prncp', 'sub_grade', 'purpose', 'zip_code', 'earliest_cr_line', 'initial_list_status',\n",
    "                   'application_type', 'out_prncp_inv', 'pymnt_plan'], axis = 1, inplace = True)\n",
    "\n",
    "col_list = list(data_reduced)\n",
    "\n",
    "f, ax = plt.subplots(figsize=(10, 8))\n",
    "corr = data_reduced.corr()\n",
    "sns.heatmap(corr, mask=np.zeros_like(corr, dtype=np.bool), cmap=sns.diverging_palette(220, 10, as_cmap=True), ax=ax)"
   ]
  },
  {
   "cell_type": "markdown",
   "metadata": {},
   "source": [
    "After the data cleaning in above steps, final data set that will be used in the modeling is as below."
   ]
  },
  {
   "cell_type": "code",
   "execution_count": 9,
   "metadata": {
    "scrolled": true
   },
   "outputs": [
    {
     "name": "stdout",
     "output_type": "stream",
     "text": [
      "<class 'pandas.core.frame.DataFrame'>\n",
      "Int64Index: 816673 entries, 42535 to 887378\n",
      "Data columns (total 35 columns):\n",
      "funded_amnt                    816673 non-null float64\n",
      "term                           816673 non-null object\n",
      "int_rate                       816673 non-null float64\n",
      "grade                          816673 non-null object\n",
      "emp_length                     816673 non-null object\n",
      "home_ownership                 816673 non-null object\n",
      "annual_inc                     816673 non-null float64\n",
      "verification_status            816673 non-null object\n",
      "issue_d                        816673 non-null object\n",
      "loan_status                    816673 non-null object\n",
      "addr_state                     816673 non-null object\n",
      "dti                            816673 non-null float64\n",
      "delinq_2yrs                    816673 non-null float64\n",
      "inq_last_6mths                 816673 non-null float64\n",
      "mths_since_last_delinq         816673 non-null float64\n",
      "mths_since_last_record         816673 non-null float64\n",
      "open_acc                       816673 non-null float64\n",
      "pub_rec                        816673 non-null float64\n",
      "revol_bal                      816673 non-null float64\n",
      "revol_util                     816673 non-null float64\n",
      "total_acc                      816673 non-null float64\n",
      "out_prncp                      816673 non-null float64\n",
      "total_pymnt                    816673 non-null float64\n",
      "total_rec_int                  816673 non-null float64\n",
      "total_rec_late_fee             816673 non-null float64\n",
      "recoveries                     816673 non-null float64\n",
      "last_pymnt_amnt                816673 non-null float64\n",
      "last_credit_pull_d             816673 non-null object\n",
      "collections_12_mths_ex_med     816673 non-null float64\n",
      "mths_since_last_major_derog    816673 non-null float64\n",
      "policy_code                    816673 non-null float64\n",
      "acc_now_delinq                 816673 non-null float64\n",
      "tot_coll_amt                   816673 non-null float64\n",
      "tot_cur_bal                    816673 non-null float64\n",
      "total_rev_hi_lim               816673 non-null float64\n",
      "dtypes: float64(26), object(9)\n",
      "memory usage: 224.3+ MB\n"
     ]
    }
   ],
   "source": [
    "data_reduced.info()"
   ]
  },
  {
   "cell_type": "markdown",
   "metadata": {},
   "source": [
    "#### 2. Data exploration and visualization\n",
    "For the good and bad loan classification, we choose the loan status as the label column. Among all the data entries, \"Fully paid\" will be classified as good loan since the loans are paid off. \"Charged off\", \"Late\" and \"Default\" will be classicied as bad loan. Although the \"Late\" status is not finally concluded yet, we still consider this as risky loan. \n",
    "\n",
    "Unfortunately, the majority of the data entries are \"Current\", on which we cannot draw a conclution yet. For simplicity, we will not use these loans for classification modeling. For the part 7, the regression modeling, we may be able to use some of the current loans, and if I have time some projection can be made on the current loans that are almost fully paied.  "
   ]
  },
  {
   "cell_type": "code",
   "execution_count": 10,
   "metadata": {},
   "outputs": [
    {
     "data": {
      "text/plain": [
       "Current               597918\n",
       "Fully Paid            153923\n",
       "Charged Off           35201 \n",
       "Late (31-120 days)    11461 \n",
       "Issued                8457  \n",
       "In Grace Period       6185  \n",
       "Late (16-30 days)     2328  \n",
       "Default               1200  \n",
       "Name: loan_status, dtype: int64"
      ]
     },
     "execution_count": 10,
     "metadata": {},
     "output_type": "execute_result"
    }
   ],
   "source": [
    "data_reduced['loan_status'].value_counts()"
   ]
  },
  {
   "cell_type": "code",
   "execution_count": 11,
   "metadata": {
    "collapsed": true
   },
   "outputs": [],
   "source": [
    "def status_label(status):\n",
    "    if status == 'Fully Paid':\n",
    "        return 0\n",
    "    else:\n",
    "        return 1"
   ]
  },
  {
   "cell_type": "code",
   "execution_count": 12,
   "metadata": {
    "collapsed": true
   },
   "outputs": [],
   "source": [
    "filter_mask = data_reduced['loan_status'].isin(['Fully Paid', 'Charged Off', 'Late (31-120 days)', \n",
    "                                                'Late (16-30 days)', 'Default'])\n",
    "data_final = data_reduced[filter_mask]\n",
    "temp = data_final.copy()\n",
    "temp['loan_label'] = data_final['loan_status'].apply(status_label)\n",
    "data_final = temp\n",
    "data_final.drop('loan_status', axis = 1, inplace=True)"
   ]
  },
  {
   "cell_type": "markdown",
   "metadata": {},
   "source": [
    "Below are the final data entries that will be used in modeling. Note that the data are highly imblance -- the negative data volume is 3 times larger than that of positive data. "
   ]
  },
  {
   "cell_type": "code",
   "execution_count": 13,
   "metadata": {},
   "outputs": [
    {
     "data": {
      "text/plain": [
       "0    153923\n",
       "1    50190 \n",
       "Name: loan_label, dtype: int64"
      ]
     },
     "execution_count": 13,
     "metadata": {},
     "output_type": "execute_result"
    }
   ],
   "source": [
    "data_final['loan_label'].value_counts()"
   ]
  },
  {
   "cell_type": "markdown",
   "metadata": {},
   "source": [
    "#### Below we will do some feature engineering, as well as data exploration and visualization\n",
    "**Issue Date:** We translate the original issue date into month, group the funded amount by month and plot them. As we can see, total funded amount experienced a growing period from 2013 to 2015, then gradually drop since 2015. One reason of the decline can be that investors are more careful in lending the money. Or Lending Club may not be doing their business well recently. "
   ]
  },
  {
   "cell_type": "code",
   "execution_count": 14,
   "metadata": {},
   "outputs": [
    {
     "data": {
      "text/html": [
       "<div>\n",
       "<style>\n",
       "    .dataframe thead tr:only-child th {\n",
       "        text-align: right;\n",
       "    }\n",
       "\n",
       "    .dataframe thead th {\n",
       "        text-align: left;\n",
       "    }\n",
       "\n",
       "    .dataframe tbody tr th {\n",
       "        vertical-align: top;\n",
       "    }\n",
       "</style>\n",
       "<table border=\"1\" class=\"dataframe\">\n",
       "  <thead>\n",
       "    <tr style=\"text-align: right;\">\n",
       "      <th></th>\n",
       "      <th>funded_amnt</th>\n",
       "      <th>term</th>\n",
       "      <th>int_rate</th>\n",
       "      <th>grade</th>\n",
       "      <th>emp_length</th>\n",
       "      <th>home_ownership</th>\n",
       "      <th>annual_inc</th>\n",
       "      <th>verification_status</th>\n",
       "      <th>addr_state</th>\n",
       "      <th>dti</th>\n",
       "      <th>...</th>\n",
       "      <th>collections_12_mths_ex_med</th>\n",
       "      <th>mths_since_last_major_derog</th>\n",
       "      <th>policy_code</th>\n",
       "      <th>acc_now_delinq</th>\n",
       "      <th>tot_coll_amt</th>\n",
       "      <th>tot_cur_bal</th>\n",
       "      <th>total_rev_hi_lim</th>\n",
       "      <th>loan_label</th>\n",
       "      <th>issue_date</th>\n",
       "      <th>issue_month</th>\n",
       "    </tr>\n",
       "  </thead>\n",
       "  <tbody>\n",
       "    <tr>\n",
       "      <th>42538</th>\n",
       "      <td>12000.0</td>\n",
       "      <td>36 months</td>\n",
       "      <td>13.53</td>\n",
       "      <td>B</td>\n",
       "      <td>10+ years</td>\n",
       "      <td>RENT</td>\n",
       "      <td>40000.0</td>\n",
       "      <td>Source Verified</td>\n",
       "      <td>NM</td>\n",
       "      <td>16.94</td>\n",
       "      <td>...</td>\n",
       "      <td>0.0</td>\n",
       "      <td>53.0</td>\n",
       "      <td>1.0</td>\n",
       "      <td>0.0</td>\n",
       "      <td>15386.0</td>\n",
       "      <td>13605.0</td>\n",
       "      <td>8100.0</td>\n",
       "      <td>0</td>\n",
       "      <td>2013-12-01</td>\n",
       "      <td>2013-12</td>\n",
       "    </tr>\n",
       "    <tr>\n",
       "      <th>42544</th>\n",
       "      <td>3000.0</td>\n",
       "      <td>36 months</td>\n",
       "      <td>12.85</td>\n",
       "      <td>B</td>\n",
       "      <td>10+ years</td>\n",
       "      <td>RENT</td>\n",
       "      <td>25000.0</td>\n",
       "      <td>Verified</td>\n",
       "      <td>FL</td>\n",
       "      <td>24.68</td>\n",
       "      <td>...</td>\n",
       "      <td>0.0</td>\n",
       "      <td>69.0</td>\n",
       "      <td>1.0</td>\n",
       "      <td>0.0</td>\n",
       "      <td>154.0</td>\n",
       "      <td>19530.0</td>\n",
       "      <td>5300.0</td>\n",
       "      <td>0</td>\n",
       "      <td>2013-12-01</td>\n",
       "      <td>2013-12</td>\n",
       "    </tr>\n",
       "    <tr>\n",
       "      <th>42546</th>\n",
       "      <td>28000.0</td>\n",
       "      <td>36 months</td>\n",
       "      <td>7.62</td>\n",
       "      <td>A</td>\n",
       "      <td>5 years</td>\n",
       "      <td>MORTGAGE</td>\n",
       "      <td>325000.0</td>\n",
       "      <td>Source Verified</td>\n",
       "      <td>CA</td>\n",
       "      <td>18.55</td>\n",
       "      <td>...</td>\n",
       "      <td>0.0</td>\n",
       "      <td>120.0</td>\n",
       "      <td>1.0</td>\n",
       "      <td>0.0</td>\n",
       "      <td>0.0</td>\n",
       "      <td>799592.0</td>\n",
       "      <td>54200.0</td>\n",
       "      <td>0</td>\n",
       "      <td>2013-12-01</td>\n",
       "      <td>2013-12</td>\n",
       "    </tr>\n",
       "    <tr>\n",
       "      <th>42549</th>\n",
       "      <td>24000.0</td>\n",
       "      <td>36 months</td>\n",
       "      <td>13.53</td>\n",
       "      <td>B</td>\n",
       "      <td>10+ years</td>\n",
       "      <td>MORTGAGE</td>\n",
       "      <td>100000.0</td>\n",
       "      <td>Verified</td>\n",
       "      <td>MI</td>\n",
       "      <td>22.18</td>\n",
       "      <td>...</td>\n",
       "      <td>0.0</td>\n",
       "      <td>120.0</td>\n",
       "      <td>1.0</td>\n",
       "      <td>0.0</td>\n",
       "      <td>539.0</td>\n",
       "      <td>199834.0</td>\n",
       "      <td>28200.0</td>\n",
       "      <td>0</td>\n",
       "      <td>2013-12-01</td>\n",
       "      <td>2013-12</td>\n",
       "    </tr>\n",
       "    <tr>\n",
       "      <th>42550</th>\n",
       "      <td>8000.0</td>\n",
       "      <td>36 months</td>\n",
       "      <td>10.99</td>\n",
       "      <td>B</td>\n",
       "      <td>2 years</td>\n",
       "      <td>MORTGAGE</td>\n",
       "      <td>33000.0</td>\n",
       "      <td>Not Verified</td>\n",
       "      <td>CO</td>\n",
       "      <td>15.75</td>\n",
       "      <td>...</td>\n",
       "      <td>0.0</td>\n",
       "      <td>120.0</td>\n",
       "      <td>1.0</td>\n",
       "      <td>0.0</td>\n",
       "      <td>0.0</td>\n",
       "      <td>15949.0</td>\n",
       "      <td>20800.0</td>\n",
       "      <td>1</td>\n",
       "      <td>2013-12-01</td>\n",
       "      <td>2013-12</td>\n",
       "    </tr>\n",
       "  </tbody>\n",
       "</table>\n",
       "<p>5 rows × 36 columns</p>\n",
       "</div>"
      ],
      "text/plain": [
       "       funded_amnt        term  int_rate grade emp_length home_ownership  \\\n",
       "42538  12000.0       36 months  13.53     B     10+ years  RENT            \n",
       "42544  3000.0        36 months  12.85     B     10+ years  RENT            \n",
       "42546  28000.0       36 months  7.62      A     5 years    MORTGAGE        \n",
       "42549  24000.0       36 months  13.53     B     10+ years  MORTGAGE        \n",
       "42550  8000.0        36 months  10.99     B     2 years    MORTGAGE        \n",
       "\n",
       "       annual_inc verification_status addr_state    dti     ...       \\\n",
       "42538  40000.0     Source Verified     NM         16.94     ...        \n",
       "42544  25000.0     Verified            FL         24.68     ...        \n",
       "42546  325000.0    Source Verified     CA         18.55     ...        \n",
       "42549  100000.0    Verified            MI         22.18     ...        \n",
       "42550  33000.0     Not Verified        CO         15.75     ...        \n",
       "\n",
       "       collections_12_mths_ex_med  mths_since_last_major_derog  policy_code  \\\n",
       "42538  0.0                         53.0                         1.0           \n",
       "42544  0.0                         69.0                         1.0           \n",
       "42546  0.0                         120.0                        1.0           \n",
       "42549  0.0                         120.0                        1.0           \n",
       "42550  0.0                         120.0                        1.0           \n",
       "\n",
       "       acc_now_delinq  tot_coll_amt  tot_cur_bal  total_rev_hi_lim  \\\n",
       "42538  0.0             15386.0       13605.0      8100.0             \n",
       "42544  0.0             154.0         19530.0      5300.0             \n",
       "42546  0.0             0.0           799592.0     54200.0            \n",
       "42549  0.0             539.0         199834.0     28200.0            \n",
       "42550  0.0             0.0           15949.0      20800.0            \n",
       "\n",
       "       loan_label  issue_date  issue_month  \n",
       "42538  0          2013-12-01  2013-12       \n",
       "42544  0          2013-12-01  2013-12       \n",
       "42546  0          2013-12-01  2013-12       \n",
       "42549  0          2013-12-01  2013-12       \n",
       "42550  1          2013-12-01  2013-12       \n",
       "\n",
       "[5 rows x 36 columns]"
      ]
     },
     "execution_count": 14,
     "metadata": {},
     "output_type": "execute_result"
    }
   ],
   "source": [
    "data_final['issue_date'] = pd.to_datetime(data_final['issue_d'])\n",
    "data_final.drop('issue_d', axis = 1, inplace = True)\n",
    "data_final['issue_month'] = data_final['issue_date'].apply(lambda x: x.to_period('M'))\n",
    "data_final.head(5)"
   ]
  },
  {
   "cell_type": "code",
   "execution_count": 15,
   "metadata": {},
   "outputs": [
    {
     "data": {
      "image/png": "[encoded data removed]",
      "text/plain": [
       "<matplotlib.figure.Figure at 0x18c1cfe5e48>"
      ]
     },
     "metadata": {},
     "output_type": "display_data"
    }
   ],
   "source": [
    "data_group_by_month = data_final[['issue_month', 'funded_amnt']].groupby('issue_month').sum()\n",
    "\n",
    "plt.style.use('ggplot')\n",
    "data_group_by_month['funded_amnt'].plot()\n",
    "plt.ylim([0, 1.4e8])\n",
    "plt.xlabel('Time')\n",
    "plt.ylabel('Total Funded Amount')\n",
    "plt.title('Time vs. Total Funded Amount')\n",
    "plt.tight_layout()"
   ]
  },
  {
   "cell_type": "markdown",
   "metadata": {},
   "source": [
    "**State:** We group the funded amount by address state. As we can see, CA, NY, TX and FL are the top states that money was lending to. It is because of the high population of these states. From the average loan status (0 for good loan, 1 for bad loans), the overall values for each states are around 0.2. There is no clear state dependency. "
   ]
  },
  {
   "cell_type": "code",
   "execution_count": 16,
   "metadata": {},
   "outputs": [
    {
     "data": {
      "text/plain": [
       "<matplotlib.axes._subplots.AxesSubplot at 0x18c1d0717f0>"
      ]
     },
     "execution_count": 16,
     "metadata": {},
     "output_type": "execute_result"
    },
    {
     "data": {
      "image/png": "[encoded data removed]",
      "text/plain": [
       "<matplotlib.figure.Figure at 0x18c1d0585c0>"
      ]
     },
     "metadata": {},
     "output_type": "display_data"
    }
   ],
   "source": [
    "funded_amnt_group_by_state = data_final[['addr_state', 'funded_amnt']].groupby(['addr_state'], as_index = False).sum()\n",
    "loan_label_group_by_state = data_final[['addr_state', 'loan_label']].groupby(['addr_state'], as_index = False).mean()\n",
    "\n",
    "f, (ax1, ax2) = plt.subplots(2, 1, sharex=False, figsize = (16, 8))\n",
    "sns.barplot(ax=ax1, x='addr_state', y='funded_amnt', data=funded_amnt_group_by_state)\n",
    "sns.barplot(ax=ax2, x='addr_state', y='loan_label', data=loan_label_group_by_state)"
   ]
  },
  {
   "cell_type": "markdown",
   "metadata": {},
   "source": [
    "**Term and Grade:** First, let's look at the grade of the loan. The load label has strong dependency on the grade of the loan. If the grade is rated as \"A\", we have only 10% or less chance to have a bad loan. The the grade degrade, the percentage of bad loans increase nomolitically. If the grade is rated as \"G\", the chace of bad loans are more than 50%. We we make a decision on lending money, we should carefully consider the grade. Second, let's look at the term. For relatively good grade (A to E), 60 month term always has higher chance of violation than short term (36 month). When grade are bad (F, G) the percentage of bad loans are equally high in both long and short terms. "
   ]
  },
  {
   "cell_type": "code",
   "execution_count": 17,
   "metadata": {},
   "outputs": [
    {
     "data": {
      "text/html": [
       "<div>\n",
       "<style>\n",
       "    .dataframe thead tr:only-child th {\n",
       "        text-align: right;\n",
       "    }\n",
       "\n",
       "    .dataframe thead th {\n",
       "        text-align: left;\n",
       "    }\n",
       "\n",
       "    .dataframe tbody tr th {\n",
       "        vertical-align: top;\n",
       "    }\n",
       "</style>\n",
       "<table border=\"1\" class=\"dataframe\">\n",
       "  <thead>\n",
       "    <tr style=\"text-align: right;\">\n",
       "      <th>grade</th>\n",
       "      <th>A</th>\n",
       "      <th>B</th>\n",
       "      <th>C</th>\n",
       "      <th>D</th>\n",
       "      <th>E</th>\n",
       "      <th>F</th>\n",
       "      <th>G</th>\n",
       "    </tr>\n",
       "    <tr>\n",
       "      <th>term</th>\n",
       "      <th></th>\n",
       "      <th></th>\n",
       "      <th></th>\n",
       "      <th></th>\n",
       "      <th></th>\n",
       "      <th></th>\n",
       "      <th></th>\n",
       "    </tr>\n",
       "  </thead>\n",
       "  <tbody>\n",
       "    <tr>\n",
       "      <th>36 months</th>\n",
       "      <td>7.548021</td>\n",
       "      <td>11.582149</td>\n",
       "      <td>14.622489</td>\n",
       "      <td>17.795392</td>\n",
       "      <td>20.556489</td>\n",
       "      <td>24.019675</td>\n",
       "      <td>26.069375</td>\n",
       "    </tr>\n",
       "    <tr>\n",
       "      <th>60 months</th>\n",
       "      <td>8.557269</td>\n",
       "      <td>11.417472</td>\n",
       "      <td>14.960791</td>\n",
       "      <td>17.679377</td>\n",
       "      <td>20.737113</td>\n",
       "      <td>24.011227</td>\n",
       "      <td>25.859587</td>\n",
       "    </tr>\n",
       "  </tbody>\n",
       "</table>\n",
       "</div>"
      ],
      "text/plain": [
       "grade              A          B          C          D          E          F  \\\n",
       "term                                                                          \n",
       " 36 months  7.548021  11.582149  14.622489  17.795392  20.556489  24.019675   \n",
       " 60 months  8.557269  11.417472  14.960791  17.679377  20.737113  24.011227   \n",
       "\n",
       "grade               G  \n",
       "term                   \n",
       " 36 months  26.069375  \n",
       " 60 months  25.859587  "
      ]
     },
     "execution_count": 17,
     "metadata": {},
     "output_type": "execute_result"
    }
   ],
   "source": [
    "data_group_by_grade_term = data_final[['term', 'grade', 'int_rate']].groupby(['term', 'grade']).mean().reset_index()\n",
    "data_group_by_grade_term.pivot(index='term', columns='grade', values='int_rate')"
   ]
  },
  {
   "cell_type": "code",
   "execution_count": 18,
   "metadata": {},
   "outputs": [
    {
     "data": {
      "text/html": [
       "<div>\n",
       "<style>\n",
       "    .dataframe thead tr:only-child th {\n",
       "        text-align: right;\n",
       "    }\n",
       "\n",
       "    .dataframe thead th {\n",
       "        text-align: left;\n",
       "    }\n",
       "\n",
       "    .dataframe tbody tr th {\n",
       "        vertical-align: top;\n",
       "    }\n",
       "</style>\n",
       "<table border=\"1\" class=\"dataframe\">\n",
       "  <thead>\n",
       "    <tr style=\"text-align: right;\">\n",
       "      <th>grade</th>\n",
       "      <th>A</th>\n",
       "      <th>B</th>\n",
       "      <th>C</th>\n",
       "      <th>D</th>\n",
       "      <th>E</th>\n",
       "      <th>F</th>\n",
       "      <th>G</th>\n",
       "    </tr>\n",
       "    <tr>\n",
       "      <th>term</th>\n",
       "      <th></th>\n",
       "      <th></th>\n",
       "      <th></th>\n",
       "      <th></th>\n",
       "      <th></th>\n",
       "      <th></th>\n",
       "      <th></th>\n",
       "    </tr>\n",
       "  </thead>\n",
       "  <tbody>\n",
       "    <tr>\n",
       "      <th>36 months</th>\n",
       "      <td>0.082167</td>\n",
       "      <td>0.158197</td>\n",
       "      <td>0.24294</td>\n",
       "      <td>0.318228</td>\n",
       "      <td>0.394697</td>\n",
       "      <td>0.462252</td>\n",
       "      <td>0.513889</td>\n",
       "    </tr>\n",
       "    <tr>\n",
       "      <th>60 months</th>\n",
       "      <td>0.126882</td>\n",
       "      <td>0.201595</td>\n",
       "      <td>0.30056</td>\n",
       "      <td>0.382023</td>\n",
       "      <td>0.433964</td>\n",
       "      <td>0.467410</td>\n",
       "      <td>0.510613</td>\n",
       "    </tr>\n",
       "  </tbody>\n",
       "</table>\n",
       "</div>"
      ],
      "text/plain": [
       "grade              A         B        C         D         E         F  \\\n",
       "term                                                                    \n",
       " 36 months  0.082167  0.158197  0.24294  0.318228  0.394697  0.462252   \n",
       " 60 months  0.126882  0.201595  0.30056  0.382023  0.433964  0.467410   \n",
       "\n",
       "grade              G  \n",
       "term                  \n",
       " 36 months  0.513889  \n",
       " 60 months  0.510613  "
      ]
     },
     "execution_count": 18,
     "metadata": {},
     "output_type": "execute_result"
    }
   ],
   "source": [
    "loan_label_group_by_grade_term = data_final[['term', 'grade', 'loan_label']].groupby(['term', 'grade']).mean().reset_index()\n",
    "loan_label_group_by_grade_term.pivot(index='term', columns='grade', values='loan_label')"
   ]
  },
  {
   "cell_type": "code",
   "execution_count": 19,
   "metadata": {},
   "outputs": [
    {
     "data": {
      "text/plain": [
       "<matplotlib.axes._subplots.AxesSubplot at 0x18c234a96a0>"
      ]
     },
     "execution_count": 19,
     "metadata": {},
     "output_type": "execute_result"
    },
    {
     "data": {
      "image/png": "[encoded data removed]",
      "text/plain": [
       "<matplotlib.figure.Figure at 0x18c1e588898>"
      ]
     },
     "metadata": {},
     "output_type": "display_data"
    }
   ],
   "source": [
    "f, (ax1, ax2) = plt.subplots(1, 2, sharex=False, figsize = (16, 8))\n",
    "sns.barplot(ax=ax1, x='term', y='loan_label', hue='grade', data=loan_label_group_by_grade_term)\n",
    "sns.barplot(ax=ax2, x='grade', y='loan_label', hue='term', data=loan_label_group_by_grade_term)"
   ]
  },
  {
   "cell_type": "markdown",
   "metadata": {
    "collapsed": true
   },
   "source": [
    "**Employment length:** Define a function to encode the string employment length into numerical numbers 0.5 to 10. From the average funded amount we can see that people tend not to lend money to people with less than 1 year employment or employment length is not available. And indeed, people with less than 1 year employment or employment length is not available show much higher chance of loan violation. For the people with 10+ year employment length, the chance for bad loan are significantly lower. "
   ]
  },
  {
   "cell_type": "code",
   "execution_count": 20,
   "metadata": {
    "collapsed": true
   },
   "outputs": [],
   "source": [
    "def proc_emp_length(emp_length_val):\n",
    "    if emp_length_val == '< 1 year' or emp_length_val == 'n/a':\n",
    "        emp_length_feat = 0.5\n",
    "    elif emp_length_val == '10+ years':\n",
    "        emp_length_feat = 10\n",
    "    else:\n",
    "        emp_length_feat = float(emp_length_val.rstrip(' years'))\n",
    "    return emp_length_feat\n",
    "\n",
    "temp = data_final.copy()\n",
    "temp['employment_length'] = data_final['emp_length'].apply(proc_emp_length)\n",
    "data_final = temp\n",
    "data_final.drop('emp_length', axis = 1, inplace=True)"
   ]
  },
  {
   "cell_type": "code",
   "execution_count": 21,
   "metadata": {},
   "outputs": [
    {
     "data": {
      "text/plain": [
       "(0.2, 0.3)"
      ]
     },
     "execution_count": 21,
     "metadata": {},
     "output_type": "execute_result"
    },
    {
     "data": {
      "image/png": "[encoded data removed]",
      "text/plain": [
       "<matplotlib.figure.Figure at 0x18c23533b70>"
      ]
     },
     "metadata": {},
     "output_type": "display_data"
    }
   ],
   "source": [
    "loan_label_group_by_emp_length = data_final[['employment_length', 'loan_label']].groupby(['employment_length'], \n",
    "                                                                                         as_index = False).mean()\n",
    "funded_amnt_group_by_emp_length = data_final[['employment_length', 'funded_amnt']].groupby(['employment_length'], \n",
    "                                                                                         as_index = False).mean()\n",
    "\n",
    "f, (ax1, ax2) = plt.subplots(1, 2, figsize = (16, 8))\n",
    "sns.barplot(ax=ax1, x='employment_length', y='funded_amnt', data=funded_amnt_group_by_emp_length)\n",
    "sns.barplot(ax=ax2, x='employment_length', y='loan_label', data=loan_label_group_by_emp_length)\n",
    "\n",
    "ax1.set_ylim([12000, 16000])\n",
    "ax2.set_ylim([0.2, 0.3])"
   ]
  },
  {
   "cell_type": "markdown",
   "metadata": {
    "collapsed": true
   },
   "source": [
    "**Funded amount and Annual income:** From the first figure below we can see that for the good loans (label 0), the median annual income is higher than that of the bad loans (label 1), smaller funded amount has lower chance to have bad loans. So in reality, it is better for an investor to spead money into multiple smaller loans instead of single big loans. A more meaningful feature could be the normalized funded amount to annual income. As we can see from the third figure below, good loans and bad loans are more differencaited if we consider normalized funded amount. "
   ]
  },
  {
   "cell_type": "code",
   "execution_count": 22,
   "metadata": {},
   "outputs": [
    {
     "data": {
      "text/html": [
       "<div>\n",
       "<style>\n",
       "    .dataframe thead tr:only-child th {\n",
       "        text-align: right;\n",
       "    }\n",
       "\n",
       "    .dataframe thead th {\n",
       "        text-align: left;\n",
       "    }\n",
       "\n",
       "    .dataframe tbody tr th {\n",
       "        vertical-align: top;\n",
       "    }\n",
       "</style>\n",
       "<table border=\"1\" class=\"dataframe\">\n",
       "  <thead>\n",
       "    <tr style=\"text-align: right;\">\n",
       "      <th></th>\n",
       "      <th>funded_amnt</th>\n",
       "      <th>term</th>\n",
       "      <th>int_rate</th>\n",
       "      <th>grade</th>\n",
       "      <th>home_ownership</th>\n",
       "      <th>annual_inc</th>\n",
       "      <th>verification_status</th>\n",
       "      <th>addr_state</th>\n",
       "      <th>dti</th>\n",
       "      <th>delinq_2yrs</th>\n",
       "      <th>...</th>\n",
       "      <th>policy_code</th>\n",
       "      <th>acc_now_delinq</th>\n",
       "      <th>tot_coll_amt</th>\n",
       "      <th>tot_cur_bal</th>\n",
       "      <th>total_rev_hi_lim</th>\n",
       "      <th>loan_label</th>\n",
       "      <th>issue_date</th>\n",
       "      <th>issue_month</th>\n",
       "      <th>employment_length</th>\n",
       "      <th>norm_funded_amnt</th>\n",
       "    </tr>\n",
       "  </thead>\n",
       "  <tbody>\n",
       "    <tr>\n",
       "      <th>42538</th>\n",
       "      <td>12000.0</td>\n",
       "      <td>36 months</td>\n",
       "      <td>13.53</td>\n",
       "      <td>B</td>\n",
       "      <td>RENT</td>\n",
       "      <td>40000.0</td>\n",
       "      <td>Source Verified</td>\n",
       "      <td>NM</td>\n",
       "      <td>16.94</td>\n",
       "      <td>0.0</td>\n",
       "      <td>...</td>\n",
       "      <td>1.0</td>\n",
       "      <td>0.0</td>\n",
       "      <td>15386.0</td>\n",
       "      <td>13605.0</td>\n",
       "      <td>8100.0</td>\n",
       "      <td>0</td>\n",
       "      <td>2013-12-01</td>\n",
       "      <td>2013-12</td>\n",
       "      <td>10.0</td>\n",
       "      <td>0.300000</td>\n",
       "    </tr>\n",
       "    <tr>\n",
       "      <th>42544</th>\n",
       "      <td>3000.0</td>\n",
       "      <td>36 months</td>\n",
       "      <td>12.85</td>\n",
       "      <td>B</td>\n",
       "      <td>RENT</td>\n",
       "      <td>25000.0</td>\n",
       "      <td>Verified</td>\n",
       "      <td>FL</td>\n",
       "      <td>24.68</td>\n",
       "      <td>0.0</td>\n",
       "      <td>...</td>\n",
       "      <td>1.0</td>\n",
       "      <td>0.0</td>\n",
       "      <td>154.0</td>\n",
       "      <td>19530.0</td>\n",
       "      <td>5300.0</td>\n",
       "      <td>0</td>\n",
       "      <td>2013-12-01</td>\n",
       "      <td>2013-12</td>\n",
       "      <td>10.0</td>\n",
       "      <td>0.120000</td>\n",
       "    </tr>\n",
       "    <tr>\n",
       "      <th>42546</th>\n",
       "      <td>28000.0</td>\n",
       "      <td>36 months</td>\n",
       "      <td>7.62</td>\n",
       "      <td>A</td>\n",
       "      <td>MORTGAGE</td>\n",
       "      <td>325000.0</td>\n",
       "      <td>Source Verified</td>\n",
       "      <td>CA</td>\n",
       "      <td>18.55</td>\n",
       "      <td>0.0</td>\n",
       "      <td>...</td>\n",
       "      <td>1.0</td>\n",
       "      <td>0.0</td>\n",
       "      <td>0.0</td>\n",
       "      <td>799592.0</td>\n",
       "      <td>54200.0</td>\n",
       "      <td>0</td>\n",
       "      <td>2013-12-01</td>\n",
       "      <td>2013-12</td>\n",
       "      <td>5.0</td>\n",
       "      <td>0.086154</td>\n",
       "    </tr>\n",
       "    <tr>\n",
       "      <th>42549</th>\n",
       "      <td>24000.0</td>\n",
       "      <td>36 months</td>\n",
       "      <td>13.53</td>\n",
       "      <td>B</td>\n",
       "      <td>MORTGAGE</td>\n",
       "      <td>100000.0</td>\n",
       "      <td>Verified</td>\n",
       "      <td>MI</td>\n",
       "      <td>22.18</td>\n",
       "      <td>0.0</td>\n",
       "      <td>...</td>\n",
       "      <td>1.0</td>\n",
       "      <td>0.0</td>\n",
       "      <td>539.0</td>\n",
       "      <td>199834.0</td>\n",
       "      <td>28200.0</td>\n",
       "      <td>0</td>\n",
       "      <td>2013-12-01</td>\n",
       "      <td>2013-12</td>\n",
       "      <td>10.0</td>\n",
       "      <td>0.240000</td>\n",
       "    </tr>\n",
       "    <tr>\n",
       "      <th>42550</th>\n",
       "      <td>8000.0</td>\n",
       "      <td>36 months</td>\n",
       "      <td>10.99</td>\n",
       "      <td>B</td>\n",
       "      <td>MORTGAGE</td>\n",
       "      <td>33000.0</td>\n",
       "      <td>Not Verified</td>\n",
       "      <td>CO</td>\n",
       "      <td>15.75</td>\n",
       "      <td>0.0</td>\n",
       "      <td>...</td>\n",
       "      <td>1.0</td>\n",
       "      <td>0.0</td>\n",
       "      <td>0.0</td>\n",
       "      <td>15949.0</td>\n",
       "      <td>20800.0</td>\n",
       "      <td>1</td>\n",
       "      <td>2013-12-01</td>\n",
       "      <td>2013-12</td>\n",
       "      <td>2.0</td>\n",
       "      <td>0.242424</td>\n",
       "    </tr>\n",
       "  </tbody>\n",
       "</table>\n",
       "<p>5 rows × 37 columns</p>\n",
       "</div>"
      ],
      "text/plain": [
       "       funded_amnt        term  int_rate grade home_ownership  annual_inc  \\\n",
       "42538  12000.0       36 months  13.53     B     RENT           40000.0      \n",
       "42544  3000.0        36 months  12.85     B     RENT           25000.0      \n",
       "42546  28000.0       36 months  7.62      A     MORTGAGE       325000.0     \n",
       "42549  24000.0       36 months  13.53     B     MORTGAGE       100000.0     \n",
       "42550  8000.0        36 months  10.99     B     MORTGAGE       33000.0      \n",
       "\n",
       "      verification_status addr_state    dti  delinq_2yrs        ...         \\\n",
       "42538  Source Verified     NM         16.94  0.0                ...          \n",
       "42544  Verified            FL         24.68  0.0                ...          \n",
       "42546  Source Verified     CA         18.55  0.0                ...          \n",
       "42549  Verified            MI         22.18  0.0                ...          \n",
       "42550  Not Verified        CO         15.75  0.0                ...          \n",
       "\n",
       "       policy_code  acc_now_delinq  tot_coll_amt  tot_cur_bal  \\\n",
       "42538  1.0          0.0             15386.0       13605.0       \n",
       "42544  1.0          0.0             154.0         19530.0       \n",
       "42546  1.0          0.0             0.0           799592.0      \n",
       "42549  1.0          0.0             539.0         199834.0      \n",
       "42550  1.0          0.0             0.0           15949.0       \n",
       "\n",
       "       total_rev_hi_lim  loan_label  issue_date  issue_month  \\\n",
       "42538  8100.0            0          2013-12-01  2013-12        \n",
       "42544  5300.0            0          2013-12-01  2013-12        \n",
       "42546  54200.0           0          2013-12-01  2013-12        \n",
       "42549  28200.0           0          2013-12-01  2013-12        \n",
       "42550  20800.0           1          2013-12-01  2013-12        \n",
       "\n",
       "       employment_length  norm_funded_amnt  \n",
       "42538  10.0               0.300000          \n",
       "42544  10.0               0.120000          \n",
       "42546  5.0                0.086154          \n",
       "42549  10.0               0.240000          \n",
       "42550  2.0                0.242424          \n",
       "\n",
       "[5 rows x 37 columns]"
      ]
     },
     "execution_count": 22,
     "metadata": {},
     "output_type": "execute_result"
    }
   ],
   "source": [
    "data_final['norm_funded_amnt'] = data_final['funded_amnt']/data_final['annual_inc']\n",
    "data_final.head(5)"
   ]
  },
  {
   "cell_type": "code",
   "execution_count": 23,
   "metadata": {},
   "outputs": [
    {
     "data": {
      "text/plain": [
       "(0, 200000.0)"
      ]
     },
     "execution_count": 23,
     "metadata": {},
     "output_type": "execute_result"
    },
    {
     "data": {
      "image/png": "[encoded data removed]",
      "text/plain": [
       "<matplotlib.figure.Figure at 0x18c23a6b0b8>"
      ]
     },
     "metadata": {},
     "output_type": "display_data"
    }
   ],
   "source": [
    "f, (ax1, ax2, ax3) = plt.subplots(1, 3, figsize = (15, 5))\n",
    "sns.boxplot(ax=ax1, x='loan_label', y='annual_inc', data=data_final[['loan_label', 'annual_inc']])\n",
    "sns.boxplot(ax=ax2, x='loan_label', y='funded_amnt', data=data_final[['loan_label', 'funded_amnt']])\n",
    "sns.boxplot(ax=ax3, x='loan_label', y='norm_funded_amnt', data=data_final[['loan_label', 'norm_funded_amnt']])\n",
    "\n",
    "ax1.set_ylim([0, 0.02e7])"
   ]
  },
  {
   "cell_type": "markdown",
   "metadata": {},
   "source": [
    "**Home ownership:** Home ownership with \"other\" status seems to have much lower chance of bad loans. However, as we examime the count, we see the count for \"other\" status is much lower, so the average loan label for this status is not quite useful. Among all other 3 statuses, \"Mortgage\", \"Own\" and \"Rent\", people have morgage has lowest chace to violate loan, people who are renting have highest percentage. "
   ]
  },
  {
   "cell_type": "code",
   "execution_count": 24,
   "metadata": {},
   "outputs": [
    {
     "data": {
      "image/png": "[encoded data removed]",
      "text/plain": [
       "<matplotlib.figure.Figure at 0x18c23ed8198>"
      ]
     },
     "metadata": {},
     "output_type": "display_data"
    }
   ],
   "source": [
    "data_final['home_ownership'].replace('ANY', 'OTHER', inplace=True)\n",
    "data_final['home_ownership'].replace('NONE', 'OTHER', inplace=True)\n",
    "\n",
    "data_group_by_home = data_final[['home_ownership', 'loan_label']].groupby('home_ownership').mean()\n",
    "data_group_by_home['count'] = data_final[['home_ownership', 'loan_label']].groupby('home_ownership').count()\n",
    "data_group_by_home.reset_index(inplace = True)\n",
    "\n",
    "f, (ag1, ag2) = plt.subplots(1, 2, figsize = (10, 5))\n",
    "sns.pointplot(ax = ag1, x = 'home_ownership', y = 'loan_label', data = data_group_by_home, join = False, scale = 1.5)\n",
    "sns.barplot(ax = ag2, x = 'home_ownership', y = 'count', data = data_group_by_home)\n",
    "\n",
    "ag2.set_yscale('log')"
   ]
  },
  {
   "cell_type": "markdown",
   "metadata": {
    "collapsed": true
   },
   "source": [
    "**Verification Status:** In the data set, \"verified\", \"not verified\" and \"source verified\" almost have same counts. Among the 3 status, \"Not verified\" have lowest chance for bad loan. This doesn't seem to be quite reasonable to me. Need to do more investigation on this if I have time."
   ]
  },
  {
   "cell_type": "code",
   "execution_count": 25,
   "metadata": {},
   "outputs": [
    {
     "data": {
      "text/plain": [
       "Verified           77811\n",
       "Source Verified    63535\n",
       "Not Verified       62767\n",
       "Name: verification_status, dtype: int64"
      ]
     },
     "execution_count": 25,
     "metadata": {},
     "output_type": "execute_result"
    }
   ],
   "source": [
    "data_final['verification_status'].value_counts()"
   ]
  },
  {
   "cell_type": "code",
   "execution_count": 26,
   "metadata": {},
   "outputs": [
    {
     "data": {
      "text/plain": [
       "<matplotlib.axes._subplots.AxesSubplot at 0x18c24a26400>"
      ]
     },
     "execution_count": 26,
     "metadata": {},
     "output_type": "execute_result"
    },
    {
     "data": {
      "image/png": "[encoded data removed]",
      "text/plain": [
       "<matplotlib.figure.Figure at 0x18c24644080>"
      ]
     },
     "metadata": {},
     "output_type": "display_data"
    }
   ],
   "source": [
    "data_group_by_verification = data_final[['verification_status', 'loan_label']].groupby('verification_status', \n",
    "                                                                                       as_index = False).count()\n",
    "\n",
    "label_group_by_verification = data_final[['verification_status', 'loan_label']].groupby('verification_status', \n",
    "                                                                                       as_index = False).mean()\n",
    "\n",
    "labels = data_group_by_verification['verification_status'].tolist()\n",
    "sizes = data_group_by_verification['loan_label'].tolist()\n",
    "colors = ['lightcoral', 'lightblue', 'magenta']\n",
    "          \n",
    "f, (ap1, ap2) = plt.subplots(1, 2, figsize = (10, 5))\n",
    "          \n",
    "ap1.pie(sizes, labels = labels, colors = colors, autopct = '%1.1f%%', shadow = True)\n",
    "sns.barplot(ax = ap2, x = 'verification_status', y = 'loan_label', data = label_group_by_verification)"
   ]
  },
  {
   "cell_type": "markdown",
   "metadata": {},
   "source": [
    "#### 3. Pre- Machine Learning data processing\n",
    "Final check the summary of the data for maching learning modeling"
   ]
  },
  {
   "cell_type": "code",
   "execution_count": 27,
   "metadata": {
    "scrolled": true
   },
   "outputs": [
    {
     "name": "stdout",
     "output_type": "stream",
     "text": [
      "<class 'pandas.core.frame.DataFrame'>\n",
      "Int64Index: 204113 entries, 42538 to 887371\n",
      "Data columns (total 37 columns):\n",
      "funded_amnt                    204113 non-null float64\n",
      "term                           204113 non-null object\n",
      "int_rate                       204113 non-null float64\n",
      "grade                          204113 non-null object\n",
      "home_ownership                 204113 non-null object\n",
      "annual_inc                     204113 non-null float64\n",
      "verification_status            204113 non-null object\n",
      "addr_state                     204113 non-null object\n",
      "dti                            204113 non-null float64\n",
      "delinq_2yrs                    204113 non-null float64\n",
      "inq_last_6mths                 204113 non-null float64\n",
      "mths_since_last_delinq         204113 non-null float64\n",
      "mths_since_last_record         204113 non-null float64\n",
      "open_acc                       204113 non-null float64\n",
      "pub_rec                        204113 non-null float64\n",
      "revol_bal                      204113 non-null float64\n",
      "revol_util                     204113 non-null float64\n",
      "total_acc                      204113 non-null float64\n",
      "out_prncp                      204113 non-null float64\n",
      "total_pymnt                    204113 non-null float64\n",
      "total_rec_int                  204113 non-null float64\n",
      "total_rec_late_fee             204113 non-null float64\n",
      "recoveries                     204113 non-null float64\n",
      "last_pymnt_amnt                204113 non-null float64\n",
      "last_credit_pull_d             204113 non-null object\n",
      "collections_12_mths_ex_med     204113 non-null float64\n",
      "mths_since_last_major_derog    204113 non-null float64\n",
      "policy_code                    204113 non-null float64\n",
      "acc_now_delinq                 204113 non-null float64\n",
      "tot_coll_amt                   204113 non-null float64\n",
      "tot_cur_bal                    204113 non-null float64\n",
      "total_rev_hi_lim               204113 non-null float64\n",
      "loan_label                     204113 non-null int64\n",
      "issue_date                     204113 non-null datetime64[ns]\n",
      "issue_month                    204113 non-null object\n",
      "employment_length              204113 non-null float64\n",
      "norm_funded_amnt               204113 non-null float64\n",
      "dtypes: datetime64[ns](1), float64(28), int64(1), object(7)\n",
      "memory usage: 69.2+ MB\n"
     ]
    }
   ],
   "source": [
    "data_final.info()"
   ]
  },
  {
   "cell_type": "markdown",
   "metadata": {},
   "source": [
    "**Selecting features:** Because the project is written and run on my laptop, for simplicity and in order to save time and space, simply choose the features we have explored above. Will use the full feature set if I have time. "
   ]
  },
  {
   "cell_type": "code",
   "execution_count": 28,
   "metadata": {
    "collapsed": true
   },
   "outputs": [],
   "source": [
    "numeric_col = ['funded_amnt', 'int_rate', 'annual_inc', 'dti', 'delinq_2yrs', 'mths_since_last_delinq', \n",
    "                'mths_since_last_record', 'employment_length', 'norm_funded_amnt']\n",
    "categorical_col = ['term', 'grade', 'home_ownership', 'verification_status', 'addr_state']\n",
    "label_col = ['loan_label']\n",
    "\n",
    "numeric_short = data_final[numeric_col].values\n",
    "categorical_short = data_final[categorical_col].values"
   ]
  },
  {
   "cell_type": "code",
   "execution_count": 29,
   "metadata": {},
   "outputs": [
    {
     "name": "stdout",
     "output_type": "stream",
     "text": [
      "Numeric features number: 9\n",
      "Categorical features number: 5\n",
      "Total data points: 204113\n"
     ]
    }
   ],
   "source": [
    "print('Numeric features number: ' + str(numeric_short.shape[1]))\n",
    "print('Categorical features number: ' + str(categorical_short.shape[1]))\n",
    "print('Total data points: ' + str(numeric_short.shape[0]))"
   ]
  },
  {
   "cell_type": "markdown",
   "metadata": {},
   "source": [
    "**Encode the catagorical features:** Method 1: Use OnehotEncoder to trasform the data into numpy array"
   ]
  },
  {
   "cell_type": "code",
   "execution_count": 30,
   "metadata": {
    "collapsed": true
   },
   "outputs": [],
   "source": [
    "X = numeric_short\n",
    "y = data_final[label_col].values\n",
    "\n",
    "for n in range(categorical_short.shape[1]):\n",
    "    label_enc = preprocessing.LabelEncoder()\n",
    "    label_val = label_enc.fit_transform(categorical_short[:,n])\n",
    "    label_val = label_val.reshape(-1, 1)\n",
    "\n",
    "    onehot_enc = preprocessing.OneHotEncoder()\n",
    "    category_temp = onehot_enc.fit_transform(label_val)\n",
    "    category_temp = category_temp.toarray()\n",
    "    \n",
    "    X = np.hstack((X, category_temp))"
   ]
  },
  {
   "cell_type": "code",
   "execution_count": 31,
   "metadata": {},
   "outputs": [
    {
     "data": {
      "text/plain": [
       "(204113, 75)"
      ]
     },
     "execution_count": 31,
     "metadata": {},
     "output_type": "execute_result"
    }
   ],
   "source": [
    "X.shape"
   ]
  },
  {
   "cell_type": "markdown",
   "metadata": {},
   "source": [
    "Split the data into training and testing sets by 2/3 and 1/3. "
   ]
  },
  {
   "cell_type": "code",
   "execution_count": 32,
   "metadata": {
    "collapsed": true
   },
   "outputs": [],
   "source": [
    "X_train, X_test, y_train, y_test = train_test_split(X, y, test_size=1.0/3, random_state=42)"
   ]
  },
  {
   "cell_type": "markdown",
   "metadata": {},
   "source": [
    "**Encode the catagorical features:** Method 2: Use get_dummies to keep the data as pandas dataframe"
   ]
  },
  {
   "cell_type": "code",
   "execution_count": 33,
   "metadata": {
    "collapsed": true
   },
   "outputs": [],
   "source": [
    "X_df = data_final[categorical_col + numeric_col]"
   ]
  },
  {
   "cell_type": "code",
   "execution_count": 34,
   "metadata": {},
   "outputs": [
    {
     "data": {
      "text/html": [
       "<div>\n",
       "<style>\n",
       "    .dataframe thead tr:only-child th {\n",
       "        text-align: right;\n",
       "    }\n",
       "\n",
       "    .dataframe thead th {\n",
       "        text-align: left;\n",
       "    }\n",
       "\n",
       "    .dataframe tbody tr th {\n",
       "        vertical-align: top;\n",
       "    }\n",
       "</style>\n",
       "<table border=\"1\" class=\"dataframe\">\n",
       "  <thead>\n",
       "    <tr style=\"text-align: right;\">\n",
       "      <th></th>\n",
       "      <th>term</th>\n",
       "      <th>grade</th>\n",
       "      <th>home_ownership</th>\n",
       "      <th>verification_status</th>\n",
       "      <th>addr_state</th>\n",
       "      <th>funded_amnt</th>\n",
       "      <th>int_rate</th>\n",
       "      <th>annual_inc</th>\n",
       "      <th>dti</th>\n",
       "      <th>delinq_2yrs</th>\n",
       "      <th>mths_since_last_delinq</th>\n",
       "      <th>mths_since_last_record</th>\n",
       "      <th>employment_length</th>\n",
       "      <th>norm_funded_amnt</th>\n",
       "    </tr>\n",
       "  </thead>\n",
       "  <tbody>\n",
       "    <tr>\n",
       "      <th>42538</th>\n",
       "      <td>36 months</td>\n",
       "      <td>B</td>\n",
       "      <td>RENT</td>\n",
       "      <td>Source Verified</td>\n",
       "      <td>NM</td>\n",
       "      <td>12000.0</td>\n",
       "      <td>13.53</td>\n",
       "      <td>40000.0</td>\n",
       "      <td>16.94</td>\n",
       "      <td>0.0</td>\n",
       "      <td>53.0</td>\n",
       "      <td>33.0</td>\n",
       "      <td>10.0</td>\n",
       "      <td>0.300000</td>\n",
       "    </tr>\n",
       "    <tr>\n",
       "      <th>42544</th>\n",
       "      <td>36 months</td>\n",
       "      <td>B</td>\n",
       "      <td>RENT</td>\n",
       "      <td>Verified</td>\n",
       "      <td>FL</td>\n",
       "      <td>3000.0</td>\n",
       "      <td>12.85</td>\n",
       "      <td>25000.0</td>\n",
       "      <td>24.68</td>\n",
       "      <td>0.0</td>\n",
       "      <td>58.0</td>\n",
       "      <td>53.0</td>\n",
       "      <td>10.0</td>\n",
       "      <td>0.120000</td>\n",
       "    </tr>\n",
       "    <tr>\n",
       "      <th>42546</th>\n",
       "      <td>36 months</td>\n",
       "      <td>A</td>\n",
       "      <td>MORTGAGE</td>\n",
       "      <td>Source Verified</td>\n",
       "      <td>CA</td>\n",
       "      <td>28000.0</td>\n",
       "      <td>7.62</td>\n",
       "      <td>325000.0</td>\n",
       "      <td>18.55</td>\n",
       "      <td>0.0</td>\n",
       "      <td>120.0</td>\n",
       "      <td>120.0</td>\n",
       "      <td>5.0</td>\n",
       "      <td>0.086154</td>\n",
       "    </tr>\n",
       "    <tr>\n",
       "      <th>42549</th>\n",
       "      <td>36 months</td>\n",
       "      <td>B</td>\n",
       "      <td>MORTGAGE</td>\n",
       "      <td>Verified</td>\n",
       "      <td>MI</td>\n",
       "      <td>24000.0</td>\n",
       "      <td>13.53</td>\n",
       "      <td>100000.0</td>\n",
       "      <td>22.18</td>\n",
       "      <td>0.0</td>\n",
       "      <td>120.0</td>\n",
       "      <td>120.0</td>\n",
       "      <td>10.0</td>\n",
       "      <td>0.240000</td>\n",
       "    </tr>\n",
       "    <tr>\n",
       "      <th>42550</th>\n",
       "      <td>36 months</td>\n",
       "      <td>B</td>\n",
       "      <td>MORTGAGE</td>\n",
       "      <td>Not Verified</td>\n",
       "      <td>CO</td>\n",
       "      <td>8000.0</td>\n",
       "      <td>10.99</td>\n",
       "      <td>33000.0</td>\n",
       "      <td>15.75</td>\n",
       "      <td>0.0</td>\n",
       "      <td>120.0</td>\n",
       "      <td>104.0</td>\n",
       "      <td>2.0</td>\n",
       "      <td>0.242424</td>\n",
       "    </tr>\n",
       "  </tbody>\n",
       "</table>\n",
       "</div>"
      ],
      "text/plain": [
       "             term grade home_ownership verification_status addr_state  \\\n",
       "42538   36 months  B     RENT           Source Verified     NM          \n",
       "42544   36 months  B     RENT           Verified            FL          \n",
       "42546   36 months  A     MORTGAGE       Source Verified     CA          \n",
       "42549   36 months  B     MORTGAGE       Verified            MI          \n",
       "42550   36 months  B     MORTGAGE       Not Verified        CO          \n",
       "\n",
       "       funded_amnt  int_rate  annual_inc    dti  delinq_2yrs  \\\n",
       "42538  12000.0      13.53     40000.0     16.94  0.0           \n",
       "42544  3000.0       12.85     25000.0     24.68  0.0           \n",
       "42546  28000.0      7.62      325000.0    18.55  0.0           \n",
       "42549  24000.0      13.53     100000.0    22.18  0.0           \n",
       "42550  8000.0       10.99     33000.0     15.75  0.0           \n",
       "\n",
       "       mths_since_last_delinq  mths_since_last_record  employment_length  \\\n",
       "42538  53.0                    33.0                    10.0                \n",
       "42544  58.0                    53.0                    10.0                \n",
       "42546  120.0                   120.0                   5.0                 \n",
       "42549  120.0                   120.0                   10.0                \n",
       "42550  120.0                   104.0                   2.0                 \n",
       "\n",
       "       norm_funded_amnt  \n",
       "42538  0.300000          \n",
       "42544  0.120000          \n",
       "42546  0.086154          \n",
       "42549  0.240000          \n",
       "42550  0.242424          "
      ]
     },
     "execution_count": 34,
     "metadata": {},
     "output_type": "execute_result"
    }
   ],
   "source": [
    "X_df.head(5)"
   ]
  },
  {
   "cell_type": "code",
   "execution_count": 35,
   "metadata": {
    "collapsed": true
   },
   "outputs": [],
   "source": [
    "for feature in categorical_col:\n",
    "    \n",
    "    X_df_temp = pd.get_dummies(X_df[feature])\n",
    "    X_df = X_df.merge(X_df_temp, left_index = True, right_index = True)\n",
    "    X_df.drop(feature, axis = 1, inplace = True)\n",
    "y_df = data_final[label_col]"
   ]
  },
  {
   "cell_type": "markdown",
   "metadata": {},
   "source": [
    "Examine the dataframe generated by the second method. The column number is same as the one generated by method 1. By doign this,  doube confirm the data encoding is correct. "
   ]
  },
  {
   "cell_type": "code",
   "execution_count": 36,
   "metadata": {
    "scrolled": true
   },
   "outputs": [
    {
     "name": "stdout",
     "output_type": "stream",
     "text": [
      "<class 'pandas.core.frame.DataFrame'>\n",
      "Int64Index: 204113 entries, 42538 to 887371\n",
      "Data columns (total 75 columns):\n",
      "funded_amnt               204113 non-null float64\n",
      "int_rate                  204113 non-null float64\n",
      "annual_inc                204113 non-null float64\n",
      "dti                       204113 non-null float64\n",
      "delinq_2yrs               204113 non-null float64\n",
      "mths_since_last_delinq    204113 non-null float64\n",
      "mths_since_last_record    204113 non-null float64\n",
      "employment_length         204113 non-null float64\n",
      "norm_funded_amnt          204113 non-null float64\n",
      " 36 months                204113 non-null uint8\n",
      " 60 months                204113 non-null uint8\n",
      "A                         204113 non-null uint8\n",
      "B                         204113 non-null uint8\n",
      "C                         204113 non-null uint8\n",
      "D                         204113 non-null uint8\n",
      "E                         204113 non-null uint8\n",
      "F                         204113 non-null uint8\n",
      "G                         204113 non-null uint8\n",
      "MORTGAGE                  204113 non-null uint8\n",
      "OTHER                     204113 non-null uint8\n",
      "OWN                       204113 non-null uint8\n",
      "RENT                      204113 non-null uint8\n",
      "Not Verified              204113 non-null uint8\n",
      "Source Verified           204113 non-null uint8\n",
      "Verified                  204113 non-null uint8\n",
      "AK                        204113 non-null uint8\n",
      "AL                        204113 non-null uint8\n",
      "AR                        204113 non-null uint8\n",
      "AZ                        204113 non-null uint8\n",
      "CA                        204113 non-null uint8\n",
      "CO                        204113 non-null uint8\n",
      "CT                        204113 non-null uint8\n",
      "DC                        204113 non-null uint8\n",
      "DE                        204113 non-null uint8\n",
      "FL                        204113 non-null uint8\n",
      "GA                        204113 non-null uint8\n",
      "HI                        204113 non-null uint8\n",
      "IA                        204113 non-null uint8\n",
      "IL                        204113 non-null uint8\n",
      "IN                        204113 non-null uint8\n",
      "KS                        204113 non-null uint8\n",
      "KY                        204113 non-null uint8\n",
      "LA                        204113 non-null uint8\n",
      "MA                        204113 non-null uint8\n",
      "MD                        204113 non-null uint8\n",
      "ME                        204113 non-null uint8\n",
      "MI                        204113 non-null uint8\n",
      "MN                        204113 non-null uint8\n",
      "MO                        204113 non-null uint8\n",
      "MS                        204113 non-null uint8\n",
      "MT                        204113 non-null uint8\n",
      "NC                        204113 non-null uint8\n",
      "ND                        204113 non-null uint8\n",
      "NE                        204113 non-null uint8\n",
      "NH                        204113 non-null uint8\n",
      "NJ                        204113 non-null uint8\n",
      "NM                        204113 non-null uint8\n",
      "NV                        204113 non-null uint8\n",
      "NY                        204113 non-null uint8\n",
      "OH                        204113 non-null uint8\n",
      "OK                        204113 non-null uint8\n",
      "OR                        204113 non-null uint8\n",
      "PA                        204113 non-null uint8\n",
      "RI                        204113 non-null uint8\n",
      "SC                        204113 non-null uint8\n",
      "SD                        204113 non-null uint8\n",
      "TN                        204113 non-null uint8\n",
      "TX                        204113 non-null uint8\n",
      "UT                        204113 non-null uint8\n",
      "VA                        204113 non-null uint8\n",
      "VT                        204113 non-null uint8\n",
      "WA                        204113 non-null uint8\n",
      "WI                        204113 non-null uint8\n",
      "WV                        204113 non-null uint8\n",
      "WY                        204113 non-null uint8\n",
      "dtypes: float64(9), uint8(66)\n",
      "memory usage: 38.4 MB\n"
     ]
    }
   ],
   "source": [
    "X_df.info()"
   ]
  },
  {
   "cell_type": "markdown",
   "metadata": {},
   "source": [
    "#### 4. Building different models and compare"
   ]
  },
  {
   "cell_type": "markdown",
   "metadata": {},
   "source": [
    "**Logistic Regression with original data:** Building a logistic regression model using the original data that are generated by method 1 above. Use the grid search and 10 fold cross validation to achieve the best hyper parameter. Use accuracy as the metrics to evaluate different hyper parameters. \n",
    "\n",
    "accuracy = (tp + tn)/(tp + tn + fp + fn)\n",
    "\n",
    "precision = tp/(tp + fp)\n",
    "\n",
    "recall = tp/(tp + fn)\n",
    "\n",
    "Note that, in our data set, bad loan is positive, good loan is negative. Among all the above 3 metrics, for our purpose recall is the most important one. Because there will be significant financail loss if we predict a posive entry as negative. "
   ]
  },
  {
   "cell_type": "code",
   "execution_count": 37,
   "metadata": {},
   "outputs": [
    {
     "name": "stderr",
     "output_type": "stream",
     "text": [
      "C:\\ProgramData\\Anaconda3\\lib\\site-packages\\sklearn\\utils\\validation.py:526: DataConversionWarning: A column-vector y was passed when a 1d array was expected. Please change the shape of y to (n_samples, ), for example using ravel().\n",
      "  y = column_or_1d(y, warn=True)\n"
     ]
    },
    {
     "name": "stdout",
     "output_type": "stream",
     "text": [
      "Best parameters set for Logistic Regression found as follows:\n",
      "\n",
      "LogisticRegression(C=10, class_weight=None, dual=False, fit_intercept=True,\n",
      "          intercept_scaling=1, max_iter=100, multi_class='ovr', n_jobs=1,\n",
      "          penalty='l2', random_state=None, solver='liblinear', tol=0.0001,\n",
      "          verbose=0, warm_start=False)\n",
      "\n",
      "accuracy = 0.7502131162\n",
      "precision = 0.0289638698119\n",
      "recall = 0.397540983607\n"
     ]
    }
   ],
   "source": [
    "from sklearn.linear_model import LogisticRegression\n",
    "from sklearn.model_selection import GridSearchCV\n",
    "from sklearn import metrics\n",
    "\n",
    "lr_model = LogisticRegression()\n",
    "parameters = {'C': [0.1, 1, 10]}\n",
    "\n",
    "acc_scorer = metrics.make_scorer(metrics.accuracy_score)\n",
    "\n",
    "grid_obj = GridSearchCV(lr_model, param_grid = parameters, scoring = acc_scorer, cv = 10)\n",
    "grid_obj = grid_obj.fit(X_train, y_train[:,0])\n",
    "\n",
    "lr_model = grid_obj.best_estimator_\n",
    "\n",
    "lr_model.fit(X_train, y_train)\n",
    "y_pred = lr_model.predict(X_test)\n",
    "\n",
    "accuracy = metrics.accuracy_score(y_pred, y_test)\n",
    "precision = metrics.precision_score(y_pred, y_test, pos_label=1)\n",
    "recall = metrics.recall_score(y_pred, y_test, pos_label=1)\n",
    "\n",
    "print(\"Best parameters set for Logistic Regression found as follows:\")\n",
    "print()\n",
    "print(grid_obj.best_estimator_)\n",
    "print()\n",
    "#print(\"Grid scores:\")\n",
    "#for params, mean_score, scores in grid_obj.grid_scores_:\n",
    "#    print(\"%0.3f (+/-%0.03f) for %r\"\n",
    "#            % (mean_score, scores.std() / 2, params))\n",
    "#print()\n",
    "\n",
    "print('accuracy = ' + str(accuracy))\n",
    "print('precision = ' + str(precision))\n",
    "print('recall = ' + str(recall))"
   ]
  },
  {
   "cell_type": "markdown",
   "metadata": {},
   "source": [
    "**Dealing with imblance data:** From the above result of the logistic regression model, we notice the very low precision, which is due to the imblanced data. As we have examed before, the positive and negative sample ratio is 1:3. Since we use accuracy as the evaluation metrics, if the model predict all sample as negative, the accurary will be as high as ~75%, which means our model did nothing! This is definately not good. Use SMOTE to re-blance the data. "
   ]
  },
  {
   "cell_type": "code",
   "execution_count": 38,
   "metadata": {},
   "outputs": [
    {
     "name": "stdout",
     "output_type": "stream",
     "text": [
      "Sample size：204113; Positive sample: 24.59%; Negative sample: 75.41%\n"
     ]
    },
    {
     "name": "stderr",
     "output_type": "stream",
     "text": [
      "C:\\ProgramData\\Anaconda3\\lib\\site-packages\\sklearn\\utils\\validation.py:526: DataConversionWarning: A column-vector y was passed when a 1d array was expected. Please change the shape of y to (n_samples, ), for example using ravel().\n",
      "  y = column_or_1d(y, warn=True)\n"
     ]
    },
    {
     "name": "stdout",
     "output_type": "stream",
     "text": [
      "Use SMOTE method to re-balance positive and negative samples\n",
      "Sample size：307846; Positive sample: 50.00%; Negative sample: 50.00%\n"
     ]
    }
   ],
   "source": [
    "from imblearn.over_sampling import SMOTE\n",
    "\n",
    "n_sample = y.shape[0]\n",
    "n_pos_sample = y[y == 1].shape[0]\n",
    "n_neg_sample = y[y == 0].shape[0]\n",
    "print('Sample size：{}; Positive sample: {:.2%}; Negative sample: {:.2%}'.format(n_sample, \n",
    "                                                                            float(n_pos_sample) / float(n_sample), \n",
    "                                                                            float(n_neg_sample) / float(n_sample)))\n",
    "\n",
    "sm = SMOTE(random_state=42)\n",
    "X, y = sm.fit_sample(X, y)\n",
    "print('Use SMOTE method to re-balance positive and negative samples')\n",
    "n_sample = y.shape[0]\n",
    "n_pos_sample = y[y == 1].shape[0]\n",
    "n_neg_sample = y[y == 0].shape[0]\n",
    "print('Sample size：{}; Positive sample: {:.2%}; Negative sample: {:.2%}'.format(n_sample, \n",
    "                                                                            float(n_pos_sample) / float(n_sample), \n",
    "                                                                            float(n_neg_sample) / float(n_sample)))\n",
    "\n",
    "X_train, X_test, y_train, y_test = train_test_split(X, y, test_size=1.0/3, random_state=42)"
   ]
  },
  {
   "cell_type": "markdown",
   "metadata": {},
   "source": [
    "**Logistic regression model again:** As we can see from above, the positive and negative data is balanced to 1:1 by up-sampling the positive data. Because of the up-sampling, the overall data size increase to ~300k. Then, run the same Logistic Regression modeling again with the re-blanced data and see difference from the model from original data. As we can see from the result below, the new model is quite different from the above one. Especially recall, which we care about most, increase from 40% to 62%. Precision increase from 3% to 66%."
   ]
  },
  {
   "cell_type": "code",
   "execution_count": 39,
   "metadata": {},
   "outputs": [
    {
     "name": "stdout",
     "output_type": "stream",
     "text": [
      "Best parameters set for Logistic Regression found as follows:\n",
      "\n",
      "LogisticRegression(C=10, class_weight=None, dual=False, fit_intercept=True,\n",
      "          intercept_scaling=1, max_iter=100, multi_class='ovr', n_jobs=1,\n",
      "          penalty='l2', random_state=None, solver='liblinear', tol=0.0001,\n",
      "          verbose=0, warm_start=False)\n",
      "\n",
      "accuracy = 0.629775083808\n",
      "precision = 0.661249414703\n",
      "recall = 0.621650373251\n"
     ]
    }
   ],
   "source": [
    "lr_model = LogisticRegression()\n",
    "parameters = {'C': [0.1, 1, 10]}\n",
    "\n",
    "acc_scorer = metrics.make_scorer(metrics.accuracy_score)\n",
    "\n",
    "grid_obj = GridSearchCV(lr_model, param_grid = parameters, scoring = acc_scorer, cv = 10)\n",
    "grid_obj = grid_obj.fit(X_train, y_train)\n",
    "\n",
    "lr_model = grid_obj.best_estimator_\n",
    "\n",
    "lr_model.fit(X_train, y_train)\n",
    "y_pred = lr_model.predict(X_test)\n",
    "\n",
    "accuracy = metrics.accuracy_score(y_pred, y_test)\n",
    "precision = metrics.precision_score(y_pred, y_test, pos_label=1)\n",
    "recall = metrics.recall_score(y_pred, y_test, pos_label=1)\n",
    "\n",
    "print(\"Best parameters set for Logistic Regression found as follows:\")\n",
    "print()\n",
    "print(grid_obj.best_estimator_)\n",
    "#print()\n",
    "#print(\"Grid scores:\")\n",
    "#for params, mean_score, scores in grid_obj.grid_scores_:\n",
    "#    print(\"%0.3f (+/-%0.03f) for %r\"\n",
    "#            % (mean_score, scores.std() / 2, params))\n",
    "print()\n",
    "\n",
    "print('accuracy = ' + str(accuracy))\n",
    "print('precision = ' + str(precision))\n",
    "print('recall = ' + str(recall))"
   ]
  },
  {
   "cell_type": "markdown",
   "metadata": {},
   "source": [
    "**Random forest:** Using the same data set to build a random forest classifier. As we can see from the result below, the new classifier have recall increase to 84%. "
   ]
  },
  {
   "cell_type": "code",
   "execution_count": 39,
   "metadata": {
    "scrolled": true
   },
   "outputs": [
    {
     "name": "stdout",
     "output_type": "stream",
     "text": [
      "Best parameters set for Random Forest found as follows:\n",
      "()\n",
      "RandomForestClassifier(bootstrap=True, class_weight=None, criterion='entropy',\n",
      "            max_depth=7, max_features='auto', max_leaf_nodes=None,\n",
      "            min_impurity_decrease=0.0, min_impurity_split=None,\n",
      "            min_samples_leaf=8, min_samples_split=3,\n",
      "            min_weight_fraction_leaf=0.0, n_estimators=9, n_jobs=1,\n",
      "            oob_score=False, random_state=None, verbose=0,\n",
      "            warm_start=False)\n",
      "()\n",
      "accuracy = 0.801220082638\n",
      "precision = 0.747034493523\n",
      "recall = 0.837452429902\n"
     ]
    }
   ],
   "source": [
    "from sklearn.ensemble import RandomForestClassifier\n",
    "\n",
    "rf_model = RandomForestClassifier()\n",
    "\n",
    "parameters = {'n_estimators': [4, 6, 9], \n",
    "              'max_features': ['log2', 'sqrt','auto'], \n",
    "              'criterion': ['entropy', 'gini'],\n",
    "              'max_depth': [3, 5, 7], \n",
    "              'min_samples_split': [2, 3, 5],\n",
    "              'min_samples_leaf': [1, 5, 8]\n",
    "             }\n",
    "\n",
    "acc_scorer = metrics.make_scorer(metrics.accuracy_score)\n",
    "\n",
    "grid_obj = GridSearchCV(rf_model, param_grid = parameters, scoring = acc_scorer, cv = 10)\n",
    "grid_obj = grid_obj.fit(X_train, y_train)\n",
    "\n",
    "rf_model = grid_obj.best_estimator_\n",
    "\n",
    "rf_model.fit(X_train, y_train)\n",
    "y_pred = rf_model.predict(X_test)\n",
    "\n",
    "accuracy = metrics.accuracy_score(y_pred, y_test)\n",
    "precision = metrics.precision_score(y_pred, y_test, pos_label=1)\n",
    "recall = metrics.recall_score(y_pred, y_test, pos_label=1)\n",
    "\n",
    "print(\"Best parameters set for Random Forest found as follows:\")\n",
    "print()\n",
    "print(grid_obj.best_estimator_)\n",
    "\n",
    "#print()\n",
    "#print(\"Grid scores:\")\n",
    "#for params, mean_score, scores in grid_obj.grid_scores_:\n",
    "#    print(\"%0.3f (+/-%0.03f) for %r\"\n",
    "#            % (mean_score, scores.std() / 2, params))\n",
    "print()\n",
    "\n",
    "print('accuracy = ' + str(accuracy))\n",
    "print('precision = ' + str(precision))\n",
    "print('recall = ' + str(recall))\n"
   ]
  },
  {
   "cell_type": "markdown",
   "metadata": {},
   "source": [
    "Use the below code to save the trees in the forest so that later the trees can be visible. "
   ]
  },
  {
   "cell_type": "code",
   "execution_count": 40,
   "metadata": {
    "collapsed": true
   },
   "outputs": [],
   "source": [
    "from sklearn import tree\n",
    "\n",
    "i_tree = 0\n",
    "for tree_in_forest in rf_model.estimators_:\n",
    "    with open('tree_' + str(i_tree) + '.dot', 'w') as my_file:\n",
    "        my_file = tree.export_graphviz(tree_in_forest, out_file = my_file)\n",
    "    i_tree = i_tree + 1"
   ]
  },
  {
   "cell_type": "markdown",
   "metadata": {},
   "source": [
    "**XGBoost:** Now use the popular algorithm XGBoost. As we can see from below, the recall increase to 95%!"
   ]
  },
  {
   "cell_type": "code",
   "execution_count": 42,
   "metadata": {},
   "outputs": [
    {
     "name": "stdout",
     "output_type": "stream",
     "text": [
      "Best parameters set for Random Forest found as follows:\n",
      "\n",
      "XGBClassifier(base_score=0.5, colsample_bylevel=1, colsample_bytree=0.5,\n",
      "       gamma=0, learning_rate=0.1, max_delta_step=0, max_depth=5,\n",
      "       min_child_weight=1, missing=None, n_estimators=100, nthread=-1,\n",
      "       objective='binary:logistic', reg_alpha=0.02, reg_lambda=1,\n",
      "       scale_pos_weight=1, seed=0, silent=True, subsample=0.5)\n",
      "\n",
      "accuracy = 0.836438761986\n",
      "precision = 0.712462931169\n",
      "recall = 0.946945337621\n"
     ]
    }
   ],
   "source": [
    "import xgboost as xgb\n",
    "\n",
    "xgb_model = xgb.XGBClassifier()\n",
    "\n",
    "parameters={'max_depth': [5], \n",
    "            'subsample': [0.5],\n",
    "            'colsample_bytree': [0.5],\n",
    "            'n_estimators': [100],\n",
    "            'reg_alpha': [0.02]\n",
    "           }\n",
    "\n",
    "acc_scorer = metrics.make_scorer(metrics.accuracy_score)\n",
    "\n",
    "grid_obj = GridSearchCV(xgb_model, param_grid = parameters, scoring = acc_scorer, cv = 10)\n",
    "grid_obj = grid_obj.fit(X_train, y_train)\n",
    "\n",
    "xgb_model = grid_obj.best_estimator_\n",
    "\n",
    "xgb_model.fit(X_train, y_train)\n",
    "y_pred = xgb_model.predict(X_test)\n",
    "\n",
    "accuracy = metrics.accuracy_score(y_pred, y_test)\n",
    "precision = metrics.precision_score(y_pred, y_test, pos_label=1)\n",
    "recall = metrics.recall_score(y_pred, y_test, pos_label=1)\n",
    "\n",
    "print(\"Best parameters set for Random Forest found as follows:\")\n",
    "print()\n",
    "print(grid_obj.best_estimator_)\n",
    "\n",
    "#print()\n",
    "#print(\"Grid scores:\")\n",
    "#for params, mean_score, scores in grid_obj.grid_scores_:\n",
    "#    print(\"%0.3f (+/-%0.03f) for %r\"\n",
    "#            % (mean_score, scores.std() / 2, params))\n",
    "print()\n",
    "\n",
    "print('accuracy = ' + str(accuracy))\n",
    "print('precision = ' + str(precision))\n",
    "print('recall = ' + str(recall))"
   ]
  },
  {
   "cell_type": "markdown",
   "metadata": {
    "collapsed": true
   },
   "source": [
    "#### 5. Develop a simple neural network and implement the above data\n",
    "A simple neural network is writtern from scrach using back propangation algorithm. The network employs one hidden with 200 hidden nodes. From the below result we can see that, by tuning the threshold, recall can be 70%+. There is a trade off between accuracy and recall. "
   ]
  },
  {
   "cell_type": "markdown",
   "metadata": {},
   "source": [
    "It is necessary to transform all the feature values to a range between 0 and 1"
   ]
  },
  {
   "cell_type": "code",
   "execution_count": 40,
   "metadata": {
    "collapsed": true
   },
   "outputs": [],
   "source": [
    "min_max_scaler = preprocessing.MinMaxScaler()\n",
    "\n",
    "X_train_scaled = min_max_scaler.fit_transform(X_train)\n",
    "y_train = y_train.reshape((y_train.shape[0],1))\n",
    "X_test_scaled = min_max_scaler.fit_transform(X_test)\n",
    "y_test = y_test.reshape((y_test.shape[0],1))"
   ]
  },
  {
   "cell_type": "markdown",
   "metadata": {},
   "source": [
    "Define a class for the neural network. Define different useful methods: train, predict, accu_rate (calculate accuracy and recall)"
   ]
  },
  {
   "cell_type": "code",
   "execution_count": 41,
   "metadata": {
    "collapsed": true
   },
   "outputs": [],
   "source": [
    "import scipy as sp\n",
    "\n",
    "class neural_net:\n",
    "    \n",
    "    def __init__(self, num_input, num_hidden, num_output, learningRate, threshold):\n",
    "        \n",
    "        self.num_input = num_input\n",
    "        self.num_hidden = num_hidden\n",
    "        self.num_output = num_output\n",
    "        self.learningRate = learningRate\n",
    "        self.threshold = threshold\n",
    "        \n",
    "        self.w_hidden = np.random.normal(0.0, pow(self.num_input, -0.5), (self.num_input, self.num_hidden))\n",
    "        self.w_output = np.random.normal(0.0, pow(self.num_hidden, -0.5), (self.num_hidden, self.num_output))\n",
    "        \n",
    "        self.activationFunc = lambda x: sp.special.expit(x) #sigmoid function\n",
    "        \n",
    "    def train(self, train_input, train_output): \n",
    "        \n",
    "        train_input = train_input.reshape((1, self.num_input))\n",
    "        train_output = train_output.reshape((1,self.num_output))\n",
    "        \n",
    "        #print('w_hidden: {val}'.format(val = self.w_hidden))\n",
    "        #print('w_output: {val}'.format(val = self.w_output.T))\n",
    "        #print('w_hidden: {dim}'.format(dim = self.w_hidden.shape))\n",
    "        #print('w_output: {dim}'.format(dim = self.w_output.shape))\n",
    "        \n",
    "        hidden = np.dot(train_input, self.w_hidden)\n",
    "        hidden = hidden.reshape((self.num_output, self.num_hidden))\n",
    "        hiddenOutput = self.activationFunc(hidden)\n",
    "        #print('hiddenOutput: {dim}'.format(dim = hiddenOutput.shape))\n",
    "        \n",
    "        final = np.dot(hiddenOutput, self.w_output)\n",
    "        finalOutput = self.activationFunc(final)\n",
    "        #print('finalOutput: {dim}'.format(dim = finalOutput.shape))\n",
    "        \n",
    "        \n",
    "        errorsOutput = train_output - finalOutput\n",
    "        errorsHidden = np.dot(errorsOutput, self.w_output.T)\n",
    "        \n",
    "        self.w_output += self.learningRate*np.dot(hiddenOutput.T, errorsOutput*finalOutput*(1 - finalOutput))\n",
    "        self.w_hidden += self.learningRate*np.dot(train_input.T, errorsHidden*hiddenOutput*(1 - hiddenOutput))\n",
    "        \n",
    "        return\n",
    "    \n",
    "    def predict(self, test_input):\n",
    "        \n",
    "        hidden = np.dot(test_input, self.w_hidden)\n",
    "        hiddenOutput = self.activationFunc(hidden)\n",
    "        \n",
    "        final = np.dot(hiddenOutput, self.w_output)\n",
    "        finalOutput = self.activationFunc(final)\n",
    "        \n",
    "        if finalOutput >= self.threshold:\n",
    "            prediction = 1\n",
    "        else:\n",
    "            prediction = 0\n",
    "        \n",
    "        return prediction\n",
    "    \n",
    "    def accu_rate(self, test_input_list, test_target_list):\n",
    "        \n",
    "        sampleSize = test_input_list.shape[0]\n",
    "        predictResult = []\n",
    "        for i in range(sampleSize):\n",
    "            predictResult.append(self.predict(test_input_list[i]))\n",
    "        \n",
    "        predictResult = np.array(predictResult).reshape(len(test_target_list), 1)\n",
    "        test_target_list = np.array(test_target_list).reshape(len(test_target_list), 1)\n",
    "        #print(predictResult.shape)\n",
    "        #print(test_target_list.shape)\n",
    "        \n",
    "        \n",
    "        tp = 0.0\n",
    "        fn = 0.0\n",
    "        compare = np.abs(predictResult - test_target_list)\n",
    "        accu = 1 - (np.sum(compare)/sampleSize)\n",
    "        \n",
    "        for i in range(len(predictResult)):\n",
    "            \n",
    "            #print('pred = {p}; test = {t}'.format(p = predictResult[i][0], t = test_target_list[i][0]))\n",
    "            if (predictResult[i][0] == 1) & (test_target_list[i][0] == 1):\n",
    "                tp += 1\n",
    "                \n",
    "            if (predictResult[i][0] == 0) & (test_target_list[i][0] == 1):\n",
    "                #print('ok')\n",
    "                fn += 1\n",
    "        \n",
    "        recall = tp/(tp + fn)\n",
    "        \n",
    "        #print('tp = {tp}'.format(tp=tp))\n",
    "        #print('fn = {fn}'.format(fn=fn))\n",
    "        \n",
    "        return accu,recall"
   ]
  },
  {
   "cell_type": "markdown",
   "metadata": {},
   "source": [
    "Train the network using the re-lanced and scaled data"
   ]
  },
  {
   "cell_type": "code",
   "execution_count": 42,
   "metadata": {},
   "outputs": [
    {
     "name": "stdout",
     "output_type": "stream",
     "text": [
      "Threshold = 0.2 ==> Accuracy = 0.5274616044281594\n",
      "Threshold = 0.2 ==> Recall = 0.993073981582644\n",
      "\n",
      "Threshold = 0.3 ==> Accuracy = 0.5837686130817806\n",
      "Threshold = 0.3 ==> Recall = 0.9551857343530513\n",
      "\n",
      "Threshold = 0.4 ==> Accuracy = 0.6321139003664146\n",
      "Threshold = 0.4 ==> Recall = 0.8603675667238957\n",
      "\n",
      "Threshold = 0.5 ==> Accuracy = 0.6459713884774304\n",
      "Threshold = 0.5 ==> Recall = 0.7023958170750741\n",
      "\n"
     ]
    },
    {
     "data": {
      "image/png": "[encoded data removed]",
      "text/plain": [
       "<matplotlib.figure.Figure at 0x18c24ba56d8>"
      ]
     },
     "metadata": {},
     "output_type": "display_data"
    }
   ],
   "source": [
    "inputNode = 75\n",
    "hiddenNode = 200\n",
    "outputNode = 1\n",
    "learningRate = 0.01\n",
    "threshold_list = [0.2, 0.3, 0.4, 0.5, 0.6, 0.7]\n",
    "\n",
    "accuracyTest = []\n",
    "recallTest = []\n",
    "accuracyTrain = []\n",
    "\n",
    "for t in threshold_list:\n",
    "    nn_model = neural_net(inputNode, hiddenNode, outputNode, learningRate, t)\n",
    "    \n",
    "    for i in range(X_train_scaled.shape[0]):  #X_train_scaled.shape[0]\n",
    "        nn_model.train(X_train_scaled[i], y_train[i])\n",
    "        \n",
    "    accuResult_test,recallResult_test = nn_model.accu_rate(X_test_scaled, y_test)\n",
    "    accuracyTest.append(accuResult_test)\n",
    "    recallTest.append(recallResult_test)\n",
    "    \n",
    "    #accuResult_train = nn_model.accu_rate(X_train_scaled, y_train)\n",
    "    #accuracyTrain.append(accuResult_train)\n",
    "    \n",
    "    print('Threshold = {thre} ==> Accuracy = {acc}'.format(thre = t, acc = accuResult_test))\n",
    "    print('Threshold = {thre} ==> Recall = {recall}'.format(thre = t, recall = recallResult_test))\n",
    "    print()\n",
    "    \n",
    "\n",
    "plt.plot(threshold_list, accuracyTest)\n",
    "plt.plot(threshold_list, recallTest)\n",
    "\n",
    "plt.style.use('ggplot')\n",
    "plt.xlabel('Threshold')\n",
    "plt.ylabel('Accuracy, Recall')\n",
    "plt.title('Model Accuracy, recall vs. Threshold')\n",
    "plt.tight_layout()"
   ]
  },
  {
   "cell_type": "markdown",
   "metadata": {
    "collapsed": true
   },
   "source": [
    "#### 6. Build a multi-layer neural network with TensorFlow and train the model with data\n",
    "A real neural network was developed using Tensorflow. The network employs 2 hidden layers with 500 and 750 hidden nodes, repectively. Sigmoid cross entropy is used to calculate cost. As we can see from the result figure below, we can achieve both accuracy and recall a value of ~80%, which is much better than the self-writtern simple neural network. "
   ]
  },
  {
   "cell_type": "code",
   "execution_count": 43,
   "metadata": {
    "collapsed": true
   },
   "outputs": [],
   "source": [
    "import tensorflow as tf"
   ]
  },
  {
   "cell_type": "code",
   "execution_count": 62,
   "metadata": {
    "collapsed": true
   },
   "outputs": [],
   "source": [
    "input_num_units = 75\n",
    "hidden_num_units_1 = 500 \n",
    "hidden_num_units_2 = 750\n",
    "output_num_units = 1\n",
    "seed = 128\n",
    "\n",
    "# define placeholders \n",
    "x = tf.placeholder(tf.float32, [None, input_num_units]) \n",
    "y = tf.placeholder(tf.float32, [None, output_num_units]) \n",
    " \n",
    "epochs = 5\n",
    "batch_size = 16 \n",
    "learning_rate = 0.01 \n",
    "\n",
    "\n",
    "weights = {\n",
    "    'hidden_1': tf.Variable(tf.random_normal([input_num_units, hidden_num_units_1], seed=seed)),\n",
    "    'hidden_2': tf.Variable(tf.random_normal([hidden_num_units_1, hidden_num_units_2], seed=seed)),\n",
    "    'output': tf.Variable(tf.random_normal([hidden_num_units_2, output_num_units], seed=seed)) \n",
    "} \n",
    "\n",
    "biases = {\n",
    "    'hidden_1': tf.Variable(tf.random_normal([hidden_num_units_1], seed=seed)),\n",
    "    'hidden_2': tf.Variable(tf.random_normal([hidden_num_units_2], seed=seed)),\n",
    "    'output': tf.Variable(tf.random_normal([output_num_units], seed=seed)) \n",
    "}"
   ]
  },
  {
   "cell_type": "code",
   "execution_count": 63,
   "metadata": {
    "collapsed": true
   },
   "outputs": [],
   "source": [
    "hidden_layer_1 = tf.add(tf.matmul(x, weights['hidden_1']), biases['hidden_1']) \n",
    "hidden_layer_1 = tf.nn.relu(hidden_layer_1) \n",
    "\n",
    "hidden_layer_2 = tf.add(tf.matmul(hidden_layer_1, weights['hidden_2']), biases['hidden_2']) \n",
    "hidden_layer_2 = tf.nn.relu(hidden_layer_2)\n",
    "\n",
    "output_layer = tf.add(tf.matmul(hidden_layer_2, weights['output']), biases['output'])\n",
    "\n",
    "cost = tf.reduce_sum(tf.nn.sigmoid_cross_entropy_with_logits(logits = output_layer, labels = y))\n",
    "\n",
    "optimizer = tf.train.AdamOptimizer(learning_rate=learning_rate).minimize(cost)\n",
    "\n",
    "prediction = tf.sigmoid(output_layer)\n",
    "predicted_class = tf.greater(prediction,0.5)\n",
    "correct = tf.equal(predicted_class, tf.equal(y,1.0))\n",
    "accuracy = tf.reduce_mean(tf.cast(correct, 'float'))"
   ]
  },
  {
   "cell_type": "code",
   "execution_count": 64,
   "metadata": {
    "collapsed": true
   },
   "outputs": [],
   "source": [
    "def batch_creator(i, batch_size, dataset_length, dataset_x, dataset_y):     \n",
    "         \n",
    "    begin = i*batch_size\n",
    "    stop = (i+1)*batch_size\n",
    "    \n",
    "    if (i+1)*batch_size > dataset_length:\n",
    "        stop = dataset_length\n",
    "    \n",
    "    batch_x = dataset_x[begin:stop,:]\n",
    "    batch_y = dataset_y[begin:stop]\n",
    "    \n",
    "    return batch_x, batch_y"
   ]
  },
  {
   "cell_type": "code",
   "execution_count": 65,
   "metadata": {},
   "outputs": [
    {
     "name": "stdout",
     "output_type": "stream",
     "text": [
      "Epoch: 1 cost = 98.801566050341\n",
      "Epoch: 2 cost = 7.037171743430326\n",
      "Epoch: 3 cost = 6.439593226521495\n",
      "Epoch: 4 cost = 6.235088526840132\n",
      "Epoch: 5 cost = 6.141592614344566\n",
      "\n",
      "Training complete!\n",
      "Train Accuracy: 0.816586\n",
      "Test Accuracy: 0.816305\n"
     ]
    }
   ],
   "source": [
    "with tf.Session() as sess:     \n",
    "         \n",
    "    tf.global_variables_initializer().run()          \n",
    "    \n",
    "    for epoch in range(epochs):\n",
    "        \n",
    "        avg_cost = 0.0         \n",
    "        total_batch = int(X_train_scaled.shape[0]/batch_size)  \n",
    "        \n",
    "        for i in range(total_batch):             \n",
    "            batch_x, batch_y = batch_creator(i, batch_size, X_train_scaled.shape[0], X_train_scaled, y_train)             \n",
    "            _, c = sess.run([optimizer, cost], feed_dict = {x: batch_x, y: batch_y})                          \n",
    "            avg_cost += c / total_batch \n",
    "            \n",
    "        print(\"Epoch:\", (epoch+1), \"cost =\", \"{cost}\".format(cost=avg_cost))          \n",
    "    print (\"\\nTraining complete!\")             \n",
    "    \n",
    "    pre = sess.run(predicted_class, feed_dict={x: X_test_scaled, y: y_test})\n",
    "    \n",
    "    print('Train Accuracy:', accuracy.eval({x: X_train_scaled, y: y_train}))\n",
    "    print('Test Accuracy:', accuracy.eval({x: X_test_scaled, y: y_test}))"
   ]
  },
  {
   "cell_type": "code",
   "execution_count": 86,
   "metadata": {},
   "outputs": [
    {
     "name": "stdout",
     "output_type": "stream",
     "text": [
      "Recall: 0.6444318713906665\n",
      "Precision: 0.9814297599239363\n",
      "Accuracy: 0.8163054494425821\n"
     ]
    }
   ],
   "source": [
    "def met(prediction, label):\n",
    "    \n",
    "    tp = 0\n",
    "    tn = 0\n",
    "    fp = 0\n",
    "    fn = 0\n",
    "\n",
    "    for i in range(len(pre)):\n",
    "\n",
    "        if (pre[i][0] == True) & (label[i][0] == 1):\n",
    "            tp += 1\n",
    "\n",
    "        if (pre[i][0] == False) & (label[i][0] == 0):\n",
    "            tn += 1\n",
    "\n",
    "        if (pre[i][0] == True) & (label[i][0] == 0):\n",
    "            fp += 1\n",
    "\n",
    "        if (pre[i][0] == False) & (label[i][0] == 1):\n",
    "            fn += 1\n",
    "    \n",
    "    recall = recall = tp/(tp+fn)\n",
    "    precision = tp/(tp + fp)\n",
    "    accuracy = (tp + tn)/(tp + tn + fp + fn)\n",
    "    \n",
    "    return recall, precision, accuracy\n",
    "        \n",
    "rec, prec, accu = met(pre, y_test)\n",
    "print('Recall: {recall}'.format(recall = rec))\n",
    "print('Precision: {precision}'.format(precision = prec))\n",
    "print('Accuracy: {accuracy}'.format(accuracy = accu))"
   ]
  },
  {
   "cell_type": "code",
   "execution_count": 87,
   "metadata": {},
   "outputs": [
    {
     "name": "stdout",
     "output_type": "stream",
     "text": [
      "Epoch: 1 cost = 98.801566050341\n",
      "Epoch: 2 cost = 7.037171743430326\n",
      "Epoch: 3 cost = 6.439593226521495\n",
      "Epoch: 4 cost = 6.235088526840132\n",
      "Epoch: 5 cost = 6.141592614344566\n",
      "\n",
      "Training complete!\n"
     ]
    },
    {
     "data": {
      "image/png": "[encoded data removed]",
      "text/plain": [
       "<matplotlib.figure.Figure at 0x18c81588f60>"
      ]
     },
     "metadata": {},
     "output_type": "display_data"
    }
   ],
   "source": [
    "with tf.Session() as sess:     \n",
    "         \n",
    "    tf.global_variables_initializer().run()          \n",
    "    \n",
    "    for epoch in range(epochs):\n",
    "        \n",
    "        avg_cost = 0.0         \n",
    "        total_batch = int(X_train_scaled.shape[0]/batch_size)  \n",
    "        \n",
    "        for i in range(total_batch):             \n",
    "            batch_x, batch_y = batch_creator(i, batch_size, X_train_scaled.shape[0], X_train_scaled, y_train)             \n",
    "            _, c = sess.run([optimizer, cost], feed_dict = {x: batch_x, y: batch_y})                          \n",
    "            avg_cost += c / total_batch \n",
    "            \n",
    "        print(\"Epoch:\", (epoch+1), \"cost =\", \"{cost}\".format(cost=avg_cost))          \n",
    "    print (\"\\nTraining complete!\")             \n",
    "    \n",
    "    \n",
    "    accu_list = []\n",
    "    rec_list = []\n",
    "    thr_list = []\n",
    "    for thr in [0.3, 0.4, 0.5, 0.6, 0.7]:\n",
    "        predicted_class = tf.greater(prediction,thr)\n",
    "        pre = sess.run(predicted_class, feed_dict={x: X_test_scaled, y: y_test})\n",
    "        rec, prec, accu = met(pre, y_test)\n",
    "        \n",
    "        print('Threshold = {thre} ==> Accuracy = {acc}'.format(thre = thr, acc = accu))\n",
    "        print('Threshold = {thre} ==> Recall = {recall}'.format(thre = thr, recall = rec))\n",
    "        print()\n",
    "        \n",
    "        accu_list.append(accu)\n",
    "        rec_list.append(rec)\n",
    "        thr_list.append(thr)\n",
    "        \n",
    "plt.plot(thr_list, accu_list)\n",
    "plt.plot(thr_list, rec_list)\n",
    "\n",
    "plt.style.use('ggplot')\n",
    "plt.xlabel('Threshold')\n",
    "plt.ylabel('Accuracy, Recall')\n",
    "plt.title('Model Accuracy, Recall vs. Threshold')\n",
    "plt.tight_layout()"
   ]
  },
  {
   "cell_type": "markdown",
   "metadata": {},
   "source": [
    "#### 7. Consider from a different side: Building a regression model for investment return\n",
    "Now we consider the problem from a different side. Is the above models perfect solution? In the above cassification models, we define a loan to be bad is it is not fully paid. However, if the loan is paid by 99% bfore the borrower stop payment and the intrest is 20%, then the investment return for the lender is still a good number. In the reality, what we care about most is actually the investment return, not the loan is simply good or bad. \n",
    "\n",
    "Therefore, we can try to build a regression model, reguardless of the status of the loan, to predict investment return to the lender. If the return can meet our requirement, then the loan can be made, no matter what is the status label. \n",
    "\n",
    "Let's re-visit the original data below:"
   ]
  },
  {
   "cell_type": "code",
   "execution_count": 88,
   "metadata": {
    "scrolled": true
   },
   "outputs": [
    {
     "name": "stdout",
     "output_type": "stream",
     "text": [
      "<class 'pandas.core.frame.DataFrame'>\n",
      "Int64Index: 816673 entries, 42535 to 887378\n",
      "Data columns (total 35 columns):\n",
      "funded_amnt                    816673 non-null float64\n",
      "term                           816673 non-null object\n",
      "int_rate                       816673 non-null float64\n",
      "grade                          816673 non-null object\n",
      "emp_length                     816673 non-null object\n",
      "home_ownership                 816673 non-null object\n",
      "annual_inc                     816673 non-null float64\n",
      "verification_status            816673 non-null object\n",
      "issue_d                        816673 non-null object\n",
      "loan_status                    816673 non-null object\n",
      "addr_state                     816673 non-null object\n",
      "dti                            816673 non-null float64\n",
      "delinq_2yrs                    816673 non-null float64\n",
      "inq_last_6mths                 816673 non-null float64\n",
      "mths_since_last_delinq         816673 non-null float64\n",
      "mths_since_last_record         816673 non-null float64\n",
      "open_acc                       816673 non-null float64\n",
      "pub_rec                        816673 non-null float64\n",
      "revol_bal                      816673 non-null float64\n",
      "revol_util                     816673 non-null float64\n",
      "total_acc                      816673 non-null float64\n",
      "out_prncp                      816673 non-null float64\n",
      "total_pymnt                    816673 non-null float64\n",
      "total_rec_int                  816673 non-null float64\n",
      "total_rec_late_fee             816673 non-null float64\n",
      "recoveries                     816673 non-null float64\n",
      "last_pymnt_amnt                816673 non-null float64\n",
      "last_credit_pull_d             816673 non-null object\n",
      "collections_12_mths_ex_med     816673 non-null float64\n",
      "mths_since_last_major_derog    816673 non-null float64\n",
      "policy_code                    816673 non-null float64\n",
      "acc_now_delinq                 816673 non-null float64\n",
      "tot_coll_amt                   816673 non-null float64\n",
      "tot_cur_bal                    816673 non-null float64\n",
      "total_rev_hi_lim               816673 non-null float64\n",
      "dtypes: float64(26), object(9)\n",
      "memory usage: 224.3+ MB\n"
     ]
    }
   ],
   "source": [
    "data_reduced.info()"
   ]
  },
  {
   "cell_type": "markdown",
   "metadata": {},
   "source": [
    "In order to explain our new idea, we still assign the data a loan label: 0 for good, 1 for bad as we used in previous classification models.\n",
    "\n",
    "In addition, we define a new feature \"investment return\" (IR) as the totoal payment / funded amount. If IR > 1, the lender is making money in the loan, if IR < 1, the lender is losing money in the loan. "
   ]
  },
  {
   "cell_type": "code",
   "execution_count": 89,
   "metadata": {
    "collapsed": true
   },
   "outputs": [],
   "source": [
    "filter_mask = data_reduced['loan_status'].isin(['Fully Paid', 'Charged Off', 'Default'])\n",
    "data_finalR = data_reduced[filter_mask]\n",
    "\n",
    "temp = data_finalR.copy()\n",
    "temp['loan_label'] = data_finalR['loan_status'].apply(status_label)\n",
    "data_finalR = temp\n",
    "\n",
    "\n",
    "temp = data_finalR.copy()\n",
    "temp['invest_return'] = data_finalR['total_pymnt']/data_finalR['funded_amnt']\n",
    "data_finalR = temp"
   ]
  },
  {
   "cell_type": "markdown",
   "metadata": {},
   "source": [
    "As we can see below, for the bad loans (label is 1), the median investment return is below 0.4 which means the lender is losing a significant part of money. This agree with our prediction. For the good loans (label is 0), the median IR is 1.1, which means the lenders are making money. However, carefully looking at the figure, we find that, for bad loans, there are still some loans with IR >1, which correspond to our previous explanation at beginning of this part. For the good loans (fully paid), there are some loans with IR < 1! Why?"
   ]
  },
  {
   "cell_type": "code",
   "execution_count": 90,
   "metadata": {},
   "outputs": [
    {
     "data": {
      "text/plain": [
       "<matplotlib.axes._subplots.AxesSubplot at 0x18c819421d0>"
      ]
     },
     "execution_count": 90,
     "metadata": {},
     "output_type": "execute_result"
    },
    {
     "data": {
      "image/png": "[encoded data removed]",
      "text/plain": [
       "<matplotlib.figure.Figure at 0x18c815af940>"
      ]
     },
     "metadata": {},
     "output_type": "display_data"
    }
   ],
   "source": [
    "from matplotlib import gridspec\n",
    "\n",
    "f, (ax1, ax2) = plt.subplots(1, 2, figsize = (15, 5))\n",
    "gs = gridspec.GridSpec(1, 2, width_ratios=[1, 2])\n",
    "ax1 = plt.subplot(gs[0])\n",
    "sns.boxplot(ax=ax1, x='loan_label', y='invest_return', data=data_finalR[['loan_label', 'invest_return']])\n",
    "ax2 = plt.subplot(gs[1])\n",
    "sns.boxplot(ax=ax2, x='grade', y='invest_return', data=data_finalR[['grade', 'invest_return']])"
   ]
  },
  {
   "cell_type": "markdown",
   "metadata": {},
   "source": [
    "Carefully examing the below table for good loan with IR < 1, we can see that intrest are still paid, but total payment is less than funded amount. This may be because, especially at beginning months of Lending Club founded, some borrowers got promotion from Lending Club, so that they only paid portion of the loan and Lending Club pay the rest of the full amount (funded amount + toal intrest)"
   ]
  },
  {
   "cell_type": "code",
   "execution_count": 34,
   "metadata": {
    "scrolled": false
   },
   "outputs": [
    {
     "data": {
      "text/html": [
       "<div>\n",
       "<style>\n",
       "    .dataframe thead tr:only-child th {\n",
       "        text-align: right;\n",
       "    }\n",
       "\n",
       "    .dataframe thead th {\n",
       "        text-align: left;\n",
       "    }\n",
       "\n",
       "    .dataframe tbody tr th {\n",
       "        vertical-align: top;\n",
       "    }\n",
       "</style>\n",
       "<table border=\"1\" class=\"dataframe\">\n",
       "  <thead>\n",
       "    <tr style=\"text-align: right;\">\n",
       "      <th></th>\n",
       "      <th>total_rec_int</th>\n",
       "      <th>int_rate</th>\n",
       "      <th>loan_status</th>\n",
       "      <th>invest_return</th>\n",
       "      <th>total_pymnt</th>\n",
       "      <th>funded_amnt</th>\n",
       "    </tr>\n",
       "  </thead>\n",
       "  <tbody>\n",
       "    <tr>\n",
       "      <th>43033</th>\n",
       "      <td>4098.03</td>\n",
       "      <td>9.67</td>\n",
       "      <td>Fully Paid</td>\n",
       "      <td>0.770704</td>\n",
       "      <td>23121.12</td>\n",
       "      <td>30000.0</td>\n",
       "    </tr>\n",
       "    <tr>\n",
       "      <th>43788</th>\n",
       "      <td>2106.12</td>\n",
       "      <td>8.90</td>\n",
       "      <td>Fully Paid</td>\n",
       "      <td>0.762086</td>\n",
       "      <td>12803.04</td>\n",
       "      <td>16800.0</td>\n",
       "    </tr>\n",
       "    <tr>\n",
       "      <th>44921</th>\n",
       "      <td>1549.97</td>\n",
       "      <td>13.53</td>\n",
       "      <td>Fully Paid</td>\n",
       "      <td>0.814508</td>\n",
       "      <td>6516.06</td>\n",
       "      <td>8000.0</td>\n",
       "    </tr>\n",
       "    <tr>\n",
       "      <th>44945</th>\n",
       "      <td>1937.13</td>\n",
       "      <td>13.53</td>\n",
       "      <td>Fully Paid</td>\n",
       "      <td>0.814408</td>\n",
       "      <td>8144.08</td>\n",
       "      <td>10000.0</td>\n",
       "    </tr>\n",
       "    <tr>\n",
       "      <th>47163</th>\n",
       "      <td>1941.59</td>\n",
       "      <td>14.98</td>\n",
       "      <td>Fully Paid</td>\n",
       "      <td>0.831733</td>\n",
       "      <td>7485.60</td>\n",
       "      <td>9000.0</td>\n",
       "    </tr>\n",
       "  </tbody>\n",
       "</table>\n",
       "</div>"
      ],
      "text/plain": [
       "       total_rec_int  int_rate loan_status  invest_return  total_pymnt  \\\n",
       "43033  4098.03        9.67      Fully Paid  0.770704       23121.12      \n",
       "43788  2106.12        8.90      Fully Paid  0.762086       12803.04      \n",
       "44921  1549.97        13.53     Fully Paid  0.814508       6516.06       \n",
       "44945  1937.13        13.53     Fully Paid  0.814408       8144.08       \n",
       "47163  1941.59        14.98     Fully Paid  0.831733       7485.60       \n",
       "\n",
       "       funded_amnt  \n",
       "43033  30000.0      \n",
       "43788  16800.0      \n",
       "44921  8000.0       \n",
       "44945  10000.0      \n",
       "47163  9000.0       "
      ]
     },
     "execution_count": 34,
     "metadata": {},
     "output_type": "execute_result"
    }
   ],
   "source": [
    "temp_df = data_finalR[data_finalR['loan_label'] == 0]\n",
    "temp_df = temp_df[temp_df['invest_return'] < 1.0]\n",
    "temp_df[['total_rec_int', 'int_rate', 'loan_status', 'invest_return', 'total_pymnt', \n",
    "                   'funded_amnt']].head(5)"
   ]
  },
  {
   "cell_type": "markdown",
   "metadata": {},
   "source": [
    "So we define the below function to deal with this issue. Since these loans are labeled as \"fully paid\", the loan should be safe. If we see this type of loan, we add the total interest to the funed amount to replace the original total amount. Note that this processing still may underestimate the IR since some small portion of interest are covered by Lending Club which is not counted in. "
   ]
  },
  {
   "cell_type": "code",
   "execution_count": 91,
   "metadata": {
    "collapsed": true
   },
   "outputs": [],
   "source": [
    "def calculate_real_payment(df):\n",
    "    \n",
    "    if df['loan_label'] == 0:\n",
    "        if df['total_pymnt'] < df['funded_amnt'] + df['total_rec_int']:\n",
    "            return df['funded_amnt'] + df['total_rec_int']\n",
    "        else: \n",
    "            return df['total_pymnt']\n",
    "    else:\n",
    "        return df['total_pymnt']"
   ]
  },
  {
   "cell_type": "code",
   "execution_count": 92,
   "metadata": {
    "collapsed": true
   },
   "outputs": [],
   "source": [
    "data_finalR['real_payment'] = data_finalR[['loan_label', 'total_pymnt', 'funded_amnt', \n",
    "                                         'total_rec_int']].apply(calculate_real_payment, axis = 1)"
   ]
  },
  {
   "cell_type": "code",
   "execution_count": 93,
   "metadata": {
    "collapsed": true
   },
   "outputs": [],
   "source": [
    "temp = data_finalR.copy()\n",
    "temp['invest_return'] = data_finalR['real_payment']/data_finalR['funded_amnt']\n",
    "data_finalR = temp"
   ]
  },
  {
   "cell_type": "markdown",
   "metadata": {},
   "source": [
    "New IR figure for the modified data is shown below, we don't see any fully paid loan with IR < 1 any more. "
   ]
  },
  {
   "cell_type": "code",
   "execution_count": 94,
   "metadata": {},
   "outputs": [
    {
     "data": {
      "text/plain": [
       "<matplotlib.axes._subplots.AxesSubplot at 0x18c83433390>"
      ]
     },
     "execution_count": 94,
     "metadata": {},
     "output_type": "execute_result"
    },
    {
     "data": {
      "image/png": "[encoded data removed]",
      "text/plain": [
       "<matplotlib.figure.Figure at 0x18c81a15fd0>"
      ]
     },
     "metadata": {},
     "output_type": "display_data"
    }
   ],
   "source": [
    "f, (ax1, ax2) = plt.subplots(1, 2, figsize = (15, 5))\n",
    "gs = gridspec.GridSpec(1, 2, width_ratios=[1, 2])\n",
    "ax1 = plt.subplot(gs[0])\n",
    "sns.boxplot(ax=ax1, x='loan_label', y='invest_return', data=data_finalR[['loan_label', 'invest_return']])\n",
    "ax2 = plt.subplot(gs[1])\n",
    "sns.boxplot(ax=ax2, x='grade', y='invest_return', data=data_finalR[['grade', 'invest_return']])"
   ]
  },
  {
   "cell_type": "markdown",
   "metadata": {},
   "source": [
    "Some catagorical features still need the same processing as the classification models."
   ]
  },
  {
   "cell_type": "code",
   "execution_count": 95,
   "metadata": {
    "collapsed": true
   },
   "outputs": [],
   "source": [
    "def proc_emp_length(emp_length_val):\n",
    "    if emp_length_val == '< 1 year' or emp_length_val == 'n/a':\n",
    "        emp_length_feat = 0.5\n",
    "    elif emp_length_val == '10+ years':\n",
    "        emp_length_feat = 10\n",
    "    else:\n",
    "        emp_length_feat = float(emp_length_val.rstrip(' years'))\n",
    "    return emp_length_feat\n",
    "\n",
    "temp = data_finalR.copy()\n",
    "temp['employment_length'] = data_finalR['emp_length'].apply(proc_emp_length)\n",
    "data_finalR = temp\n",
    "data_finalR.drop('emp_length', axis = 1, inplace=True)"
   ]
  },
  {
   "cell_type": "code",
   "execution_count": 96,
   "metadata": {
    "collapsed": true
   },
   "outputs": [],
   "source": [
    "data_finalR['norm_funded_amnt'] = data_finalR['funded_amnt']/data_finalR['annual_inc']"
   ]
  },
  {
   "cell_type": "code",
   "execution_count": 97,
   "metadata": {
    "scrolled": true
   },
   "outputs": [
    {
     "name": "stdout",
     "output_type": "stream",
     "text": [
      "<class 'pandas.core.frame.DataFrame'>\n",
      "Int64Index: 190324 entries, 42538 to 887371\n",
      "Data columns (total 36 columns):\n",
      "funded_amnt                    190324 non-null float64\n",
      "term                           190324 non-null object\n",
      "int_rate                       190324 non-null float64\n",
      "grade                          190324 non-null object\n",
      "home_ownership                 190324 non-null object\n",
      "annual_inc                     190324 non-null float64\n",
      "verification_status            190324 non-null object\n",
      "issue_d                        190324 non-null object\n",
      "addr_state                     190324 non-null object\n",
      "dti                            190324 non-null float64\n",
      "delinq_2yrs                    190324 non-null float64\n",
      "inq_last_6mths                 190324 non-null float64\n",
      "mths_since_last_delinq         190324 non-null float64\n",
      "mths_since_last_record         190324 non-null float64\n",
      "open_acc                       190324 non-null float64\n",
      "pub_rec                        190324 non-null float64\n",
      "revol_bal                      190324 non-null float64\n",
      "revol_util                     190324 non-null float64\n",
      "total_acc                      190324 non-null float64\n",
      "out_prncp                      190324 non-null float64\n",
      "total_rec_int                  190324 non-null float64\n",
      "total_rec_late_fee             190324 non-null float64\n",
      "recoveries                     190324 non-null float64\n",
      "last_pymnt_amnt                190324 non-null float64\n",
      "last_credit_pull_d             190324 non-null object\n",
      "collections_12_mths_ex_med     190324 non-null float64\n",
      "mths_since_last_major_derog    190324 non-null float64\n",
      "policy_code                    190324 non-null float64\n",
      "acc_now_delinq                 190324 non-null float64\n",
      "tot_coll_amt                   190324 non-null float64\n",
      "tot_cur_bal                    190324 non-null float64\n",
      "total_rev_hi_lim               190324 non-null float64\n",
      "invest_return                  190324 non-null float64\n",
      "real_payment                   190324 non-null float64\n",
      "employment_length              190324 non-null float64\n",
      "norm_funded_amnt               190324 non-null float64\n",
      "dtypes: float64(29), object(7)\n",
      "memory usage: 53.7+ MB\n"
     ]
    }
   ],
   "source": [
    "data_finalR.drop(['loan_label', 'loan_status', 'total_pymnt'], axis = 1, inplace = True)\n",
    "data_finalR.info()"
   ]
  },
  {
   "cell_type": "code",
   "execution_count": 98,
   "metadata": {
    "collapsed": true
   },
   "outputs": [],
   "source": [
    "numeric_col = ['funded_amnt', 'int_rate', 'annual_inc', 'dti', 'delinq_2yrs', 'mths_since_last_delinq', \n",
    "                'mths_since_last_record', 'employment_length', 'norm_funded_amnt', 'collections_12_mths_ex_med', \n",
    "               'pub_rec', 'open_acc', 'revol_bal', 'revol_util', 'acc_now_delinq', 'mths_since_last_major_derog',\n",
    "               'tot_coll_amt', 'tot_cur_bal', 'total_rev_hi_lim']\n",
    "categorical_col = ['term', 'grade', 'home_ownership', 'verification_status', 'addr_state']\n",
    "label_col = ['invest_return']\n",
    "\n",
    "numeric_short = data_finalR[numeric_col].values\n",
    "categorical_short = data_finalR[categorical_col].values"
   ]
  },
  {
   "cell_type": "code",
   "execution_count": 99,
   "metadata": {},
   "outputs": [
    {
     "name": "stdout",
     "output_type": "stream",
     "text": [
      "Numeric features number: 19\n",
      "Categorical features number: 5\n",
      "Total data points: 190324\n"
     ]
    }
   ],
   "source": [
    "print('Numeric features number: ' + str(numeric_short.shape[1]))\n",
    "print('Categorical features number: ' + str(categorical_short.shape[1]))\n",
    "print('Total data points: ' + str(numeric_short.shape[0]))"
   ]
  },
  {
   "cell_type": "code",
   "execution_count": 100,
   "metadata": {
    "collapsed": true
   },
   "outputs": [],
   "source": [
    "XR = numeric_short\n",
    "yR = data_finalR[label_col].values\n",
    "\n",
    "for n in range(categorical_short.shape[1]):\n",
    "    label_enc = preprocessing.LabelEncoder()\n",
    "    label_val = label_enc.fit_transform(categorical_short[:,n])\n",
    "    label_val = label_val.reshape(-1, 1)\n",
    "\n",
    "    onehot_enc = preprocessing.OneHotEncoder()\n",
    "    category_temp = onehot_enc.fit_transform(label_val)\n",
    "    category_temp = category_temp.toarray()\n",
    "    \n",
    "    XR = np.hstack((XR, category_temp))"
   ]
  },
  {
   "cell_type": "code",
   "execution_count": 101,
   "metadata": {},
   "outputs": [
    {
     "data": {
      "text/plain": [
       "(190324, 87)"
      ]
     },
     "execution_count": 101,
     "metadata": {},
     "output_type": "execute_result"
    }
   ],
   "source": [
    "XR.shape"
   ]
  },
  {
   "cell_type": "code",
   "execution_count": 46,
   "metadata": {
    "collapsed": true
   },
   "outputs": [],
   "source": [
    "XR_train, XR_test, yR_train, yR_test = train_test_split(XR, yR, test_size=1.0/3, random_state=42)"
   ]
  },
  {
   "cell_type": "code",
   "execution_count": 47,
   "metadata": {
    "collapsed": true
   },
   "outputs": [],
   "source": [
    "min_max_scaler = preprocessing.MinMaxScaler()\n",
    "\n",
    "XR_train_scaled = min_max_scaler.fit_transform(XR_train)\n",
    "yR_train = yR_train.reshape((yR_train.shape[0],1))\n",
    "XR_test_scaled = min_max_scaler.fit_transform(XR_test)\n",
    "yR_test = yR_test.reshape((yR_test.shape[0],1))"
   ]
  },
  {
   "cell_type": "code",
   "execution_count": 48,
   "metadata": {
    "scrolled": true
   },
   "outputs": [
    {
     "name": "stderr",
     "output_type": "stream",
     "text": [
      "C:\\ProgramData\\Anaconda3\\lib\\site-packages\\ipykernel_launcher.py:15: DataConversionWarning: A column-vector y was passed when a 1d array was expected. Please change the shape of y to (n_samples,), for example using ravel().\n",
      "  from ipykernel import kernelapp as app\n"
     ]
    },
    {
     "name": "stdout",
     "output_type": "stream",
     "text": [
      "Grid scores:\n",
      "-0.052 (+/-0.001) for {'max_depth': None, 'n_estimators': 10}\n",
      "-0.001 (+/-0.002) for {'max_depth': None, 'n_estimators': 20}\n",
      "0.047 (+/-0.001) for {'max_depth': 10, 'n_estimators': 10}\n",
      "0.052 (+/-0.001) for {'max_depth': 10, 'n_estimators': 20}\n",
      "\n"
     ]
    },
    {
     "name": "stderr",
     "output_type": "stream",
     "text": [
      "C:\\ProgramData\\Anaconda3\\lib\\site-packages\\sklearn\\model_selection\\_search.py:667: DeprecationWarning: The grid_scores_ attribute was deprecated in version 0.18 in favor of the more elaborate cv_results_ attribute. The grid_scores_ attribute will not be available from 0.20\n",
      "  DeprecationWarning)\n"
     ]
    }
   ],
   "source": [
    "from sklearn.ensemble import RandomForestRegressor\n",
    "from sklearn.model_selection import GridSearchCV\n",
    "from sklearn import metrics\n",
    "\n",
    "linr_model = RandomForestRegressor()\n",
    "parameters = parameters = {'n_estimators':[10, 20], 'max_depth':[None, 10]}\n",
    "\n",
    "acc_scorer = metrics.make_scorer(metrics.mean_squared_error)\n",
    "\n",
    "grid_obj = GridSearchCV(linr_model, param_grid = parameters, cv = 5)\n",
    "grid_obj = grid_obj.fit(XR_train_scaled, yR_train[:,0])\n",
    "\n",
    "linr_model = grid_obj.best_estimator_\n",
    "\n",
    "linr_model.fit(XR_train_scaled, yR_train)\n",
    "print(\"Grid scores:\")\n",
    "for params, mean_score, scores in grid_obj.grid_scores_:\n",
    "    print(\"%0.3f (+/-%0.03f) for %r\"\n",
    "            % (mean_score, scores.std() / 2, params))\n",
    "print()"
   ]
  },
  {
   "cell_type": "markdown",
   "metadata": {},
   "source": [
    "As we can see from the below figure, we can use an additional hyper parameter (threshold) to select loans. The size of the data points corresponds to the size the data. Y-value corresponds to the average inverstment return of the selected loans from test data set. As we increase our threshold, average return will increase. but meanwhile, the number of the loans that we can select drop sharply as threshold goes high. "
   ]
  },
  {
   "cell_type": "code",
   "execution_count": 108,
   "metadata": {},
   "outputs": [
    {
     "data": {
      "image/png": "[encoded data removed]",
      "text/plain": [
       "<matplotlib.figure.Figure at 0x237db21e1d0>"
      ]
     },
     "metadata": {},
     "output_type": "display_data"
    }
   ],
   "source": [
    "yPred = linr_model.predict(XR_test_scaled)\n",
    "\n",
    "threshold_list = []\n",
    "IR_list = []\n",
    "size = []\n",
    "\n",
    "for i in range(10):\n",
    "    \n",
    "    threshold = 1.0 + i/100.0\n",
    "    IR = 0\n",
    "    count = 0\n",
    "    for k in range(len(yPred)):\n",
    "        if yPred[k] >= threshold:\n",
    "            IR += yR_test[k]\n",
    "            count += 1\n",
    "    \n",
    "    IR_list.append(IR/count)\n",
    "    threshold_list.append(threshold)\n",
    "    size.append(6*np.sqrt(count))\n",
    "\n",
    "fig = plt.figure(figsize = (8,6))\n",
    "plt.style.use('ggplot')\n",
    "fig = plt.scatter(threshold_list, IR_list, s=size) \n",
    "plt.xlim([0.98, 1.12])\n",
    "plt.xlabel('Threshold')\n",
    "plt.ylabel('Investment Return')\n",
    "plt.title('Investment Return vs. Threshold')\n",
    "plt.tight_layout()"
   ]
  },
  {
   "cell_type": "markdown",
   "metadata": {
    "collapsed": true
   },
   "source": [
    "#### Conclusion:\n",
    "In this project, we use original data provided by Lending Club to build our models using both classification and regression techniques. Our models not only predict whether a coming loan request is good or bad, but also predict the investment return that the lender can get. Combining the classification and regression model, a more confident decision can be made. \n",
    "\n",
    "Due to the fact that the project is running on my laptop, not all the features and data can be used to train the model. Also, model optimization cannot be preformed in an time and memory intensive way. Therefore, it time and space allows, the models can be further improved and prediction results can be better."
   ]
  },
  {
   "cell_type": "code",
   "execution_count": null,
   "metadata": {
    "collapsed": true
   },
   "outputs": [],
   "source": []
  }
 ],
 "metadata": {
  "kernelspec": {
   "display_name": "Python 3",
   "language": "python",
   "name": "python3"
  },
  "language_info": {
   "codemirror_mode": {
    "name": "ipython",
    "version": 3
   },
   "file_extension": ".py",
   "mimetype": "text/x-python",
   "name": "python",
   "nbconvert_exporter": "python",
   "pygments_lexer": "ipython3",
   "version": "3.6.1"
  }
 },
 "nbformat": 4,
 "nbformat_minor": 1
}
